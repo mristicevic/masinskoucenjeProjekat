{
 "cells": [
  {
   "cell_type": "code",
   "execution_count": 1,
   "metadata": {},
   "outputs": [],
   "source": [
    "import numpy as np\n",
    "import pandas as pd\n",
    "import warnings\n",
    "warnings.filterwarnings(\"ignore\")"
   ]
  },
  {
   "cell_type": "code",
   "execution_count": 2,
   "metadata": {},
   "outputs": [],
   "source": [
    "import seaborn as sns\n",
    "sns.set()"
   ]
  },
  {
   "cell_type": "code",
   "execution_count": 3,
   "metadata": {},
   "outputs": [],
   "source": [
    "df=pd.read_csv(\"Carvana/carvana.csv\")"
   ]
  },
  {
   "cell_type": "markdown",
   "metadata": {},
   "source": [
    "# ANALIZA PODATAKA"
   ]
  },
  {
   "cell_type": "code",
   "execution_count": 4,
   "metadata": {},
   "outputs": [
    {
     "data": {
      "text/html": [
       "<div>\n",
       "<style scoped>\n",
       "    .dataframe tbody tr th:only-of-type {\n",
       "        vertical-align: middle;\n",
       "    }\n",
       "\n",
       "    .dataframe tbody tr th {\n",
       "        vertical-align: top;\n",
       "    }\n",
       "\n",
       "    .dataframe thead th {\n",
       "        text-align: right;\n",
       "    }\n",
       "</style>\n",
       "<table border=\"1\" class=\"dataframe\">\n",
       "  <thead>\n",
       "    <tr style=\"text-align: right;\">\n",
       "      <th></th>\n",
       "      <th>RefId</th>\n",
       "      <th>PurchDate</th>\n",
       "      <th>Auction</th>\n",
       "      <th>VehYear</th>\n",
       "      <th>VehicleAge</th>\n",
       "      <th>Make</th>\n",
       "      <th>Model</th>\n",
       "      <th>Trim</th>\n",
       "      <th>SubModel</th>\n",
       "      <th>Color</th>\n",
       "      <th>...</th>\n",
       "      <th>MMRCurrentRetailCleanPrice</th>\n",
       "      <th>PRIMEUNIT</th>\n",
       "      <th>AUCGUART</th>\n",
       "      <th>BYRNO</th>\n",
       "      <th>VNZIP1</th>\n",
       "      <th>VNST</th>\n",
       "      <th>VehBCost</th>\n",
       "      <th>IsOnlineSale</th>\n",
       "      <th>WarrantyCost</th>\n",
       "      <th>IsBadBuy</th>\n",
       "    </tr>\n",
       "  </thead>\n",
       "  <tbody>\n",
       "    <tr>\n",
       "      <th>0</th>\n",
       "      <td>1</td>\n",
       "      <td>1/7/2009 0:12</td>\n",
       "      <td>ADESA</td>\n",
       "      <td>2005</td>\n",
       "      <td>4</td>\n",
       "      <td>DODGE</td>\n",
       "      <td>STRATUS V6</td>\n",
       "      <td>SXT</td>\n",
       "      <td>4D SEDAN SXT FFV</td>\n",
       "      <td>MAROON</td>\n",
       "      <td>...</td>\n",
       "      <td>8702.0</td>\n",
       "      <td>NaN</td>\n",
       "      <td>NaN</td>\n",
       "      <td>19638</td>\n",
       "      <td>33619</td>\n",
       "      <td>FL</td>\n",
       "      <td>4900.0</td>\n",
       "      <td>0</td>\n",
       "      <td>1389</td>\n",
       "      <td>0</td>\n",
       "    </tr>\n",
       "    <tr>\n",
       "      <th>1</th>\n",
       "      <td>2</td>\n",
       "      <td>1/7/2009 0:12</td>\n",
       "      <td>ADESA</td>\n",
       "      <td>2004</td>\n",
       "      <td>5</td>\n",
       "      <td>DODGE</td>\n",
       "      <td>NEON</td>\n",
       "      <td>SXT</td>\n",
       "      <td>4D SEDAN</td>\n",
       "      <td>SILVER</td>\n",
       "      <td>...</td>\n",
       "      <td>5518.0</td>\n",
       "      <td>NaN</td>\n",
       "      <td>NaN</td>\n",
       "      <td>19638</td>\n",
       "      <td>33619</td>\n",
       "      <td>FL</td>\n",
       "      <td>4100.0</td>\n",
       "      <td>0</td>\n",
       "      <td>630</td>\n",
       "      <td>0</td>\n",
       "    </tr>\n",
       "    <tr>\n",
       "      <th>2</th>\n",
       "      <td>3</td>\n",
       "      <td>1/7/2009 0:12</td>\n",
       "      <td>ADESA</td>\n",
       "      <td>2005</td>\n",
       "      <td>4</td>\n",
       "      <td>FORD</td>\n",
       "      <td>FOCUS</td>\n",
       "      <td>ZX3</td>\n",
       "      <td>2D COUPE ZX3</td>\n",
       "      <td>SILVER</td>\n",
       "      <td>...</td>\n",
       "      <td>7911.0</td>\n",
       "      <td>NaN</td>\n",
       "      <td>NaN</td>\n",
       "      <td>19638</td>\n",
       "      <td>33619</td>\n",
       "      <td>FL</td>\n",
       "      <td>4000.0</td>\n",
       "      <td>0</td>\n",
       "      <td>1020</td>\n",
       "      <td>0</td>\n",
       "    </tr>\n",
       "    <tr>\n",
       "      <th>3</th>\n",
       "      <td>4</td>\n",
       "      <td>1/7/2009 0:12</td>\n",
       "      <td>ADESA</td>\n",
       "      <td>2004</td>\n",
       "      <td>5</td>\n",
       "      <td>MITSUBISHI</td>\n",
       "      <td>GALANT 4C</td>\n",
       "      <td>ES</td>\n",
       "      <td>4D SEDAN ES</td>\n",
       "      <td>WHITE</td>\n",
       "      <td>...</td>\n",
       "      <td>9451.0</td>\n",
       "      <td>NaN</td>\n",
       "      <td>NaN</td>\n",
       "      <td>19638</td>\n",
       "      <td>33619</td>\n",
       "      <td>FL</td>\n",
       "      <td>5600.0</td>\n",
       "      <td>0</td>\n",
       "      <td>594</td>\n",
       "      <td>0</td>\n",
       "    </tr>\n",
       "    <tr>\n",
       "      <th>4</th>\n",
       "      <td>5</td>\n",
       "      <td>1/21/2009 0:12</td>\n",
       "      <td>ADESA</td>\n",
       "      <td>2004</td>\n",
       "      <td>5</td>\n",
       "      <td>DODGE</td>\n",
       "      <td>1500 RAM PICKUP 2WD</td>\n",
       "      <td>ST</td>\n",
       "      <td>QUAD CAB 4.7L SLT</td>\n",
       "      <td>WHITE</td>\n",
       "      <td>...</td>\n",
       "      <td>12560.0</td>\n",
       "      <td>NaN</td>\n",
       "      <td>NaN</td>\n",
       "      <td>19638</td>\n",
       "      <td>33619</td>\n",
       "      <td>FL</td>\n",
       "      <td>8800.0</td>\n",
       "      <td>0</td>\n",
       "      <td>920</td>\n",
       "      <td>0</td>\n",
       "    </tr>\n",
       "  </tbody>\n",
       "</table>\n",
       "<p>5 rows × 34 columns</p>\n",
       "</div>"
      ],
      "text/plain": [
       "   RefId       PurchDate Auction  VehYear  VehicleAge        Make  \\\n",
       "0      1   1/7/2009 0:12   ADESA     2005           4       DODGE   \n",
       "1      2   1/7/2009 0:12   ADESA     2004           5       DODGE   \n",
       "2      3   1/7/2009 0:12   ADESA     2005           4        FORD   \n",
       "3      4   1/7/2009 0:12   ADESA     2004           5  MITSUBISHI   \n",
       "4      5  1/21/2009 0:12   ADESA     2004           5       DODGE   \n",
       "\n",
       "                 Model Trim           SubModel   Color  ...  \\\n",
       "0           STRATUS V6  SXT   4D SEDAN SXT FFV  MAROON  ...   \n",
       "1                 NEON  SXT           4D SEDAN  SILVER  ...   \n",
       "2                FOCUS  ZX3       2D COUPE ZX3  SILVER  ...   \n",
       "3            GALANT 4C   ES        4D SEDAN ES   WHITE  ...   \n",
       "4  1500 RAM PICKUP 2WD   ST  QUAD CAB 4.7L SLT   WHITE  ...   \n",
       "\n",
       "  MMRCurrentRetailCleanPrice  PRIMEUNIT AUCGUART  BYRNO VNZIP1 VNST VehBCost  \\\n",
       "0                     8702.0        NaN      NaN  19638  33619   FL   4900.0   \n",
       "1                     5518.0        NaN      NaN  19638  33619   FL   4100.0   \n",
       "2                     7911.0        NaN      NaN  19638  33619   FL   4000.0   \n",
       "3                     9451.0        NaN      NaN  19638  33619   FL   5600.0   \n",
       "4                    12560.0        NaN      NaN  19638  33619   FL   8800.0   \n",
       "\n",
       "   IsOnlineSale  WarrantyCost  IsBadBuy  \n",
       "0             0          1389         0  \n",
       "1             0           630         0  \n",
       "2             0          1020         0  \n",
       "3             0           594         0  \n",
       "4             0           920         0  \n",
       "\n",
       "[5 rows x 34 columns]"
      ]
     },
     "execution_count": 4,
     "metadata": {},
     "output_type": "execute_result"
    }
   ],
   "source": [
    "df.head()"
   ]
  },
  {
   "cell_type": "code",
   "execution_count": 5,
   "metadata": {},
   "outputs": [
    {
     "name": "stdout",
     "output_type": "stream",
     "text": [
      "<class 'pandas.core.frame.DataFrame'>\n",
      "RangeIndex: 6798 entries, 0 to 6797\n",
      "Data columns (total 34 columns):\n",
      " #   Column                             Non-Null Count  Dtype  \n",
      "---  ------                             --------------  -----  \n",
      " 0   RefId                              6798 non-null   int64  \n",
      " 1   PurchDate                          6798 non-null   object \n",
      " 2   Auction                            2983 non-null   object \n",
      " 3   VehYear                            6798 non-null   int64  \n",
      " 4   VehicleAge                         6798 non-null   int64  \n",
      " 5   Make                               6798 non-null   object \n",
      " 6   Model                              6798 non-null   object \n",
      " 7   Trim                               6566 non-null   object \n",
      " 8   SubModel                           6798 non-null   object \n",
      " 9   Color                              6798 non-null   object \n",
      " 10  Transmission                       6798 non-null   object \n",
      " 11  WheelTypeID                        6515 non-null   float64\n",
      " 12  WheelType                          6459 non-null   object \n",
      " 13  VehOdo                             6798 non-null   int64  \n",
      " 14  Nationality                        6797 non-null   object \n",
      " 15  Size                               6797 non-null   object \n",
      " 16  TopThreeAmericanName               6797 non-null   object \n",
      " 17  MMRAcquisitionAuctionAveragePrice  6797 non-null   float64\n",
      " 18  MMRAcquisitionAuctionCleanPrice    6797 non-null   float64\n",
      " 19  MMRAcquisitionRetailAveragePrice   6797 non-null   float64\n",
      " 20  MMRAcquisitonRetailCleanPrice      6797 non-null   float64\n",
      " 21  MMRCurrentAuctionAveragePrice      6777 non-null   float64\n",
      " 22  MMRCurrentAuctionCleanPrice        6777 non-null   float64\n",
      " 23  MMRCurrentRetailAveragePrice       6777 non-null   float64\n",
      " 24  MMRCurrentRetailCleanPrice         6777 non-null   float64\n",
      " 25  PRIMEUNIT                          339 non-null    object \n",
      " 26  AUCGUART                           339 non-null    object \n",
      " 27  BYRNO                              6798 non-null   int64  \n",
      " 28  VNZIP1                             6798 non-null   int64  \n",
      " 29  VNST                               1131 non-null   object \n",
      " 30  VehBCost                           6798 non-null   float64\n",
      " 31  IsOnlineSale                       6798 non-null   int64  \n",
      " 32  WarrantyCost                       6798 non-null   int64  \n",
      " 33  IsBadBuy                           6798 non-null   int64  \n",
      "dtypes: float64(10), int64(9), object(15)\n",
      "memory usage: 1.8+ MB\n"
     ]
    }
   ],
   "source": [
    "df.info()"
   ]
  },
  {
   "cell_type": "markdown",
   "metadata": {},
   "source": [
    "Izlacimo vazne informacije iz varijabli Model i Submodel"
   ]
  },
  {
   "cell_type": "code",
   "execution_count": 6,
   "metadata": {},
   "outputs": [
    {
     "data": {
      "text/plain": [
       "PT CRUISER              216\n",
       "IMPALA                  194\n",
       "TAURUS                  128\n",
       "CARAVAN GRAND FWD V6    118\n",
       "CALIBER                 117\n",
       "                       ... \n",
       "MONTERO SPORT 4WD V6      1\n",
       "SUBURBAN 1500 4WD 5.      1\n",
       "QX4 4WD V6                1\n",
       "MAZDA3 2.3L I4 MPI        1\n",
       "MPV 2WD V6 3.0L V6 M      1\n",
       "Name: Model, Length: 632, dtype: int64"
      ]
     },
     "execution_count": 6,
     "metadata": {},
     "output_type": "execute_result"
    }
   ],
   "source": [
    "df['Model'].value_counts()"
   ]
  },
  {
   "cell_type": "code",
   "execution_count": 7,
   "metadata": {},
   "outputs": [],
   "source": [
    "df['array']=df['Model'].str.split(\" \")\n",
    "arr=df['array'].values\n",
    "for i in range(arr.size):\n",
    "    arr[i]=np.array(arr[i])\n",
    "    array=[]\n",
    "\n",
    "for k in range(arr.size):\n",
    "    array=np.concatenate((array,arr[k]), axis=None)"
   ]
  },
  {
   "cell_type": "code",
   "execution_count": 8,
   "metadata": {},
   "outputs": [
    {
     "data": {
      "text/plain": [
       "array(['&', '/', '/EF', '1.5L', '1.6L', '1.7L', '1.8L', '1.9L', '1500',\n",
       "       '1500HD', '2', '2.', '2.0L', '2.2L', '2.3L', '2.4L', '2.5L', '2.7',\n",
       "       '2.7L', '24V', '2500', '2500HD', '2V', '2WD', '3.', '3.0', '3.0L',\n",
       "       '3.1L', '3.2', '3.2L', '3.3L', '3.4L', '3.5L', '3.6L', '3.7',\n",
       "       '3.7L', '3.8L', '3.9L', '300', '300C', '300M', '350', '350Z', '4',\n",
       "       '4.', '4.0L', '4.2L', '4.5L', '4.6L', '4.7', '4.7L', '4.8L', '4C',\n",
       "       '4V', '4WD', '5', '5.', '5.3L', '5.4', '5.7L', '5C', '6', '6.0L',\n",
       "       '6C', 'ACCENT', 'ACCORD', 'AERIO', 'ALERO', 'ALTIMA', 'AM',\n",
       "       'AMANTI', 'ARMADA', 'ASCENDER', 'AURA', 'AVALANCHE', 'AVENGER',\n",
       "       'AVENUE', 'AVEO', 'AVIATOR', 'AWD', 'B2300', 'B3000', 'BEETLE',\n",
       "       'BONNEVILLE', 'BRAVADA', 'CALIBER', 'CAMARO', 'CAMRY', 'CAR',\n",
       "       'CARAVAN', 'CARLO', 'CAVALIER', 'CENTURY', 'CHARGER', 'CHEROKEE',\n",
       "       'CIVIC', 'COBALT', 'COLORADO', 'COMMANDER', 'COMPASS', 'CONCORDE',\n",
       "       'CONTINENTAL', 'COOPER', 'COROLLA', 'COUNTRY', 'CR-V', 'CROSSFIRE',\n",
       "       'CRUISER', 'CTS', 'D', 'DAKOTA', 'DI', 'DO', 'DOH', 'DOHC',\n",
       "       'DURANGO', 'E', 'ECLIPSE', 'EDGE', 'EF', 'EFI', 'ELANTRA',\n",
       "       'ELEMENT', 'ENDEAVOR', 'ENVOY', 'EQUINOX', 'ESCAPE', 'ESCORT',\n",
       "       'EXCURSION', 'EXPEDITION', 'EXPLORER', 'EXT', 'En', 'Engi', 'F',\n",
       "       'F150', 'F250', 'FE', 'FIVE', 'FOCUS', 'FORENZA', 'FORESTER',\n",
       "       'FREESTAR', 'FREESTYLE', 'FRONTIER', 'FUSION', 'FWD', 'G35', 'G5',\n",
       "       'G6', 'GALANT', 'GRAND', 'GS300', 'H3', 'HHR', 'HIGHLANDER',\n",
       "       'HUNDRED', 'I', 'I-', 'I-290', 'I-4', 'I-6', 'I30', 'I4', 'I5',\n",
       "       'I6', 'IMPALA', 'INTREPID', 'ION', 'JETTA', 'JOURNEY', 'L',\n",
       "       'LACROSSE', 'LANCER', 'LE', 'LIBERTY', 'LS', 'M', 'M45', 'MAGNUM',\n",
       "       'MALIBU', 'MARINER', 'MARQUIS', 'MATRIX', 'MAXIMA', 'MAXX',\n",
       "       'MAZDA3', 'MAZDA5', 'MAZDA6', 'MF', 'MFI', 'MIATA', 'MILAN',\n",
       "       'MONTANA', 'MONTE', 'MONTEGO', 'MONTEREY', 'MONTERO',\n",
       "       'MOUNTAINEER', 'MP', 'MPI', 'MPV', 'MURANO', 'MUSTANG', 'MX-5',\n",
       "       'Multipl', 'Multiple', 'NEON', 'NITRO', 'OPTIMA', 'OUTLANDER',\n",
       "       'PACIFICA', 'PARK', 'PATHFINDER', 'PATRIOT', 'PIC', 'PICKU',\n",
       "       'PICKUP', 'PILOT', 'PRIX', 'PROTEGE', 'PT', 'Pacifica', 'QUEST',\n",
       "       'QX4', 'RAIDER', 'RAINIER', 'RAM', 'RANGER', 'RAV-4', 'REGAL',\n",
       "       'RELAY', 'RENDEZVOUS', 'RENO', 'RIO', 'RONDO', 'RSX', 'S', 'S10',\n",
       "       'S40', 'SABLE', 'SABRE', 'SANTA', 'SC', 'SEBRING', 'SEDONA',\n",
       "       'SEFI', 'SENTRA', 'SEQUOIA', 'SERIES', 'SF', 'SFI', 'SIENNA',\n",
       "       'SIERRA', 'SILHOUETTE', 'SILVERADO', 'SM', 'SO', 'SOLARA',\n",
       "       'SONATA', 'SONOMA', 'SORENTO', 'SPECTRA', 'SPI', 'SPORT',\n",
       "       'SPORTAGE', 'STRATUS', 'SUBURBAN', 'SUNFIRE', 'SX4', 'TACOMA',\n",
       "       'TAHOE', 'TAURUS', 'TERRAZA', 'TIBURON', 'TITAN', 'TL', 'TOWN',\n",
       "       'TRACKER', 'TRAILBLAZER', 'TRIBUTE', 'TUCSON', 'TUNDRA',\n",
       "       'UPLANDER', 'Unspecif', 'Unspecifi', 'Unspecified', 'V', 'V12',\n",
       "       'V6', 'V8', 'VENTURE', 'VERONA', 'VERSA', 'VIBE', 'VITARA',\n",
       "       'VOYAGER', 'VUE', 'WINDSTAR', 'WRANGLER', 'X', 'XA', 'XB', 'XG',\n",
       "       'XL', 'XL-7', 'XTERRA', 'YARIS', 'YUKON'], dtype='<U32')"
      ]
     },
     "execution_count": 8,
     "metadata": {},
     "output_type": "execute_result"
    }
   ],
   "source": [
    "np.unique(array)"
   ]
  },
  {
   "cell_type": "code",
   "execution_count": 9,
   "metadata": {},
   "outputs": [],
   "source": [
    "df['array_sub']=df['SubModel'].str.split(\" \")\n",
    "arr_sub=df['array_sub'].values\n",
    "for i in range(arr_sub.size):\n",
    "    arr_sub[i]=np.array(arr_sub[i])\n",
    "    array_sub=[]\n",
    "\n",
    "for k in range(arr_sub.size):\n",
    "    array_sub=np.concatenate((array_sub,arr_sub[k]), axis=None)"
   ]
  },
  {
   "cell_type": "code",
   "execution_count": 10,
   "metadata": {},
   "outputs": [
    {
     "data": {
      "text/plain": [
       "array(['1', '1.8', '1.8S', '1LT', '2', '2.0L', '2.2L', '2.3L', '2.4I',\n",
       "       '2.4L', '2.5', '2.5L', '2.5X', '2.7L', '2.8L', '2.9L', '2D', '3',\n",
       "       '3.0L', '3.3L', '3.4L', '3.5L', '3.7L', '3.8L', '3.9L', '3D',\n",
       "       '4.0L', '4.2L', '4.3L', '4.6L', '4.7L', '4.8L', '4D', '5', '5.3L',\n",
       "       '5.4L', '5.6L', '5.7L', '5.9L', '5D', '5SP', '6.0L', 'ADVENTURER',\n",
       "       'AUTO', 'AWD', 'BAUER', 'BIG', 'BROS', 'CAB', 'CE', 'CLASSIC',\n",
       "       'COMFORT', 'CONVERTIBLE', 'COUPE', 'CREW', 'CROSSOVER', 'CUSTOM',\n",
       "       'CUV', 'CX', 'CXL', 'CXS', 'DAVIDSON', 'DE', 'DLX', 'DOUBLE',\n",
       "       'DURATEC', 'DX', 'EC', 'EDDIE', 'EDGE', 'EL', 'ES', 'EX',\n",
       "       'EXECUTIVE', 'EXT', 'FFV', 'FX2', 'FX4', 'GL', 'GL1', 'GL2', 'GLE',\n",
       "       'GLS', 'GRAND', 'GS', 'GT', 'GT1', 'GT2', 'GTC', 'GTP', 'GTS',\n",
       "       'GXE', 'HARDTOP', 'HARLEY', 'HATCHBACK', 'HEMI', 'HIGHLINE',\n",
       "       'HORN', 'I', 'JEEP', 'JLS', 'KING', 'L200', 'L300', 'LARAMIE',\n",
       "       'LAREDO', 'LARIAT', 'LE', 'LEVEL', 'LIMITED', 'LIMTED', 'LS', 'LT',\n",
       "       'LTZ', 'LUXURY', 'LW200', 'LW300', 'LX', 'LXI', 'MAZDA3', 'MAZDA5',\n",
       "       'MAZDASPEED', 'MINIVAN', 'OFF-RD', 'OVERLAND', 'PASS', 'PASSENGER',\n",
       "       'PKG', 'PKG1', 'POPULAR', 'PREMIER', 'PREMIUM', 'PRERUNNER',\n",
       "       'QUAD', 'R/T', 'RANCH', 'REG', 'RENEGADE', 'S', 'SC2', 'SE',\n",
       "       'SE-R', 'SE1', 'SE2', 'SEDAN', 'SEL', 'SES', 'SL', 'SL1', 'SL2',\n",
       "       'SLE', 'SLT', 'SPECIAL', 'SPORT', 'SPORTBACK', 'SPYDER', 'SR5',\n",
       "       'SS', 'ST', 'STX', 'SUV', 'SUV-PICKUP', 'SVG', 'SVT', 'SX', 'SXT',\n",
       "       'TOURER', 'TOURING', 'TRAC', 'TURBO', 'UTILITY', 'VALUE', 'W/T',\n",
       "       'WAGON', 'WARNER', 'X', 'XE', 'XL', 'XLE', 'XLS', 'XLT', 'XRS',\n",
       "       'XUV', 'Z24', 'ZTS', 'ZTW', 'ZX2', 'ZX3', 'ZX4', 'ZX5', 'ZXW'],\n",
       "      dtype='<U32')"
      ]
     },
     "execution_count": 10,
     "metadata": {},
     "output_type": "execute_result"
    }
   ],
   "source": [
    "np.unique(array_sub)"
   ]
  },
  {
   "cell_type": "code",
   "execution_count": 11,
   "metadata": {},
   "outputs": [],
   "source": [
    "def vent(dataframe):\n",
    "    column_model=dataframe['Model']\n",
    "    column_submodel=dataframe['SubModel']\n",
    "    if(('4C' or 'I4' or 'I 4' or 'I-4')in column_model or ('4C' or 'I4' or 'I 4' or 'I-4') in column_submodel):\n",
    "        return '4'\n",
    "    elif(( 'I5' or 'I 5' or 'I-5') in column_model or ('I5' or 'I 5' or 'I-5') in column_submodel ):\n",
    "        return '5'\n",
    "    elif(('V6' or '6C' or 'I6' or 'I 6' or 'I-6') in column_model or ('V6' or '6C' or 'I6' or 'I 6' or 'I-6') in column_submodel ):\n",
    "        return '6'\n",
    "    elif('V8' in column_model or 'V8' in column_submodel ):\n",
    "        return '8'\n",
    "    elif('V12' in column_model or 'V12' in column_submodel ):\n",
    "        return '12'\n",
    "    else:\n",
    "        return 'not_spec'"
   ]
  },
  {
   "cell_type": "code",
   "execution_count": 12,
   "metadata": {},
   "outputs": [],
   "source": [
    "def doors(column_submodel):\n",
    "    if('2D' in column_submodel):\n",
    "        return '2D'\n",
    "    elif('4D' in column_submodel):\n",
    "        return '4D'\n",
    "    elif('5D' in column_submodel):\n",
    "        return '5D'\n",
    "    else:\n",
    "        return 'not_spec'"
   ]
  },
  {
   "cell_type": "code",
   "execution_count": 13,
   "metadata": {},
   "outputs": [],
   "source": [
    "def liter(dataframe):\n",
    "    column_model=dataframe['Model']\n",
    "    column_submodel=dataframe['SubModel']\n",
    "    for i in np.arange(2.0, 6.0,0.1):\n",
    "        if('{}L'.format(round(i,1)) in column_model or '{}L'.format(round(i,1)) in column_submodel):\n",
    "            return i\n",
    "    \n",
    "    "
   ]
  },
  {
   "cell_type": "code",
   "execution_count": 14,
   "metadata": {},
   "outputs": [],
   "source": [
    "def wheels(dataframe):\n",
    "    column_model=dataframe['Model']\n",
    "    column_submodel=dataframe['SubModel']\n",
    "    if('2WD' in column_model or '2WD' in column_submodel):\n",
    "        return '2WD'\n",
    "    elif('4WD' in column_model or '4WD' in column_submodel):\n",
    "        return '4WD'\n",
    "    elif('AWD' in column_model or 'AWD' in column_submodel):\n",
    "        return 'AWD'\n",
    "    elif('FWD' in column_model or 'FWD' in column_submodel):\n",
    "        return 'FWD'\n",
    "    elif('RWD' in column_model or 'RWD' in column_submodel):\n",
    "        return 'RWD'\n",
    "    else:\n",
    "        return 'not_spec'"
   ]
  },
  {
   "cell_type": "code",
   "execution_count": 15,
   "metadata": {},
   "outputs": [],
   "source": [
    "\n",
    "df['vent'] = df.apply(lambda x: vent(x), axis=1)"
   ]
  },
  {
   "cell_type": "code",
   "execution_count": 16,
   "metadata": {},
   "outputs": [],
   "source": [
    "df['doors']=df['SubModel'].apply(lambda x: doors(x))"
   ]
  },
  {
   "cell_type": "code",
   "execution_count": 17,
   "metadata": {},
   "outputs": [],
   "source": [
    "df['Liter'] = df.apply(lambda x: liter(x), axis=1)"
   ]
  },
  {
   "cell_type": "code",
   "execution_count": 18,
   "metadata": {},
   "outputs": [],
   "source": [
    "df['WD']=df.apply(lambda x: wheels(x), axis=1)\n"
   ]
  },
  {
   "cell_type": "code",
   "execution_count": 19,
   "metadata": {},
   "outputs": [
    {
     "data": {
      "text/plain": [
       "not_spec    4631\n",
       "2WD         1064\n",
       "FWD          697\n",
       "4WD          324\n",
       "AWD           82\n",
       "Name: WD, dtype: int64"
      ]
     },
     "execution_count": 19,
     "metadata": {},
     "output_type": "execute_result"
    }
   ],
   "source": [
    "df['WD'].value_counts()"
   ]
  },
  {
   "cell_type": "code",
   "execution_count": 20,
   "metadata": {},
   "outputs": [
    {
     "data": {
      "text/plain": [
       "not_spec    3063\n",
       "6           2309\n",
       "4           1076\n",
       "8            348\n",
       "12             1\n",
       "5              1\n",
       "Name: vent, dtype: int64"
      ]
     },
     "execution_count": 20,
     "metadata": {},
     "output_type": "execute_result"
    }
   ],
   "source": [
    "df['vent'].value_counts()"
   ]
  },
  {
   "cell_type": "code",
   "execution_count": 21,
   "metadata": {},
   "outputs": [
    {
     "data": {
      "text/plain": [
       "4D          5559\n",
       "not_spec     937\n",
       "2D           291\n",
       "5D            11\n",
       "Name: doors, dtype: int64"
      ]
     },
     "execution_count": 21,
     "metadata": {},
     "output_type": "execute_result"
    }
   ],
   "source": [
    "df['doors'].value_counts()"
   ]
  },
  {
   "cell_type": "code",
   "execution_count": 22,
   "metadata": {},
   "outputs": [],
   "source": [
    "df.drop(['array', 'array_sub'], axis=1, inplace=True)"
   ]
  },
  {
   "cell_type": "code",
   "execution_count": 23,
   "metadata": {},
   "outputs": [
    {
     "name": "stdout",
     "output_type": "stream",
     "text": [
      "<class 'pandas.core.frame.DataFrame'>\n",
      "RangeIndex: 6798 entries, 0 to 6797\n",
      "Data columns (total 38 columns):\n",
      " #   Column                             Non-Null Count  Dtype  \n",
      "---  ------                             --------------  -----  \n",
      " 0   RefId                              6798 non-null   int64  \n",
      " 1   PurchDate                          6798 non-null   object \n",
      " 2   Auction                            2983 non-null   object \n",
      " 3   VehYear                            6798 non-null   int64  \n",
      " 4   VehicleAge                         6798 non-null   int64  \n",
      " 5   Make                               6798 non-null   object \n",
      " 6   Model                              6798 non-null   object \n",
      " 7   Trim                               6566 non-null   object \n",
      " 8   SubModel                           6798 non-null   object \n",
      " 9   Color                              6798 non-null   object \n",
      " 10  Transmission                       6798 non-null   object \n",
      " 11  WheelTypeID                        6515 non-null   float64\n",
      " 12  WheelType                          6459 non-null   object \n",
      " 13  VehOdo                             6798 non-null   int64  \n",
      " 14  Nationality                        6797 non-null   object \n",
      " 15  Size                               6797 non-null   object \n",
      " 16  TopThreeAmericanName               6797 non-null   object \n",
      " 17  MMRAcquisitionAuctionAveragePrice  6797 non-null   float64\n",
      " 18  MMRAcquisitionAuctionCleanPrice    6797 non-null   float64\n",
      " 19  MMRAcquisitionRetailAveragePrice   6797 non-null   float64\n",
      " 20  MMRAcquisitonRetailCleanPrice      6797 non-null   float64\n",
      " 21  MMRCurrentAuctionAveragePrice      6777 non-null   float64\n",
      " 22  MMRCurrentAuctionCleanPrice        6777 non-null   float64\n",
      " 23  MMRCurrentRetailAveragePrice       6777 non-null   float64\n",
      " 24  MMRCurrentRetailCleanPrice         6777 non-null   float64\n",
      " 25  PRIMEUNIT                          339 non-null    object \n",
      " 26  AUCGUART                           339 non-null    object \n",
      " 27  BYRNO                              6798 non-null   int64  \n",
      " 28  VNZIP1                             6798 non-null   int64  \n",
      " 29  VNST                               1131 non-null   object \n",
      " 30  VehBCost                           6798 non-null   float64\n",
      " 31  IsOnlineSale                       6798 non-null   int64  \n",
      " 32  WarrantyCost                       6798 non-null   int64  \n",
      " 33  IsBadBuy                           6798 non-null   int64  \n",
      " 34  vent                               6798 non-null   object \n",
      " 35  doors                              6798 non-null   object \n",
      " 36  Liter                              3776 non-null   float64\n",
      " 37  WD                                 6798 non-null   object \n",
      "dtypes: float64(11), int64(9), object(18)\n",
      "memory usage: 2.0+ MB\n"
     ]
    }
   ],
   "source": [
    "df.info()"
   ]
  },
  {
   "cell_type": "markdown",
   "metadata": {},
   "source": [
    "Izbacujemo varijable Primeunit i Aucguart zbog prevelikog broja nedostajucih vrednosti"
   ]
  },
  {
   "cell_type": "code",
   "execution_count": 24,
   "metadata": {},
   "outputs": [],
   "source": [
    "df.drop(['PRIMEUNIT', 'AUCGUART'], axis=1, inplace=True)"
   ]
  },
  {
   "cell_type": "code",
   "execution_count": 25,
   "metadata": {
    "scrolled": true
   },
   "outputs": [
    {
     "name": "stdout",
     "output_type": "stream",
     "text": [
      "<class 'pandas.core.frame.DataFrame'>\n",
      "RangeIndex: 6798 entries, 0 to 6797\n",
      "Data columns (total 36 columns):\n",
      " #   Column                             Non-Null Count  Dtype  \n",
      "---  ------                             --------------  -----  \n",
      " 0   RefId                              6798 non-null   int64  \n",
      " 1   PurchDate                          6798 non-null   object \n",
      " 2   Auction                            2983 non-null   object \n",
      " 3   VehYear                            6798 non-null   int64  \n",
      " 4   VehicleAge                         6798 non-null   int64  \n",
      " 5   Make                               6798 non-null   object \n",
      " 6   Model                              6798 non-null   object \n",
      " 7   Trim                               6566 non-null   object \n",
      " 8   SubModel                           6798 non-null   object \n",
      " 9   Color                              6798 non-null   object \n",
      " 10  Transmission                       6798 non-null   object \n",
      " 11  WheelTypeID                        6515 non-null   float64\n",
      " 12  WheelType                          6459 non-null   object \n",
      " 13  VehOdo                             6798 non-null   int64  \n",
      " 14  Nationality                        6797 non-null   object \n",
      " 15  Size                               6797 non-null   object \n",
      " 16  TopThreeAmericanName               6797 non-null   object \n",
      " 17  MMRAcquisitionAuctionAveragePrice  6797 non-null   float64\n",
      " 18  MMRAcquisitionAuctionCleanPrice    6797 non-null   float64\n",
      " 19  MMRAcquisitionRetailAveragePrice   6797 non-null   float64\n",
      " 20  MMRAcquisitonRetailCleanPrice      6797 non-null   float64\n",
      " 21  MMRCurrentAuctionAveragePrice      6777 non-null   float64\n",
      " 22  MMRCurrentAuctionCleanPrice        6777 non-null   float64\n",
      " 23  MMRCurrentRetailAveragePrice       6777 non-null   float64\n",
      " 24  MMRCurrentRetailCleanPrice         6777 non-null   float64\n",
      " 25  BYRNO                              6798 non-null   int64  \n",
      " 26  VNZIP1                             6798 non-null   int64  \n",
      " 27  VNST                               1131 non-null   object \n",
      " 28  VehBCost                           6798 non-null   float64\n",
      " 29  IsOnlineSale                       6798 non-null   int64  \n",
      " 30  WarrantyCost                       6798 non-null   int64  \n",
      " 31  IsBadBuy                           6798 non-null   int64  \n",
      " 32  vent                               6798 non-null   object \n",
      " 33  doors                              6798 non-null   object \n",
      " 34  Liter                              3776 non-null   float64\n",
      " 35  WD                                 6798 non-null   object \n",
      "dtypes: float64(11), int64(9), object(16)\n",
      "memory usage: 1.9+ MB\n"
     ]
    }
   ],
   "source": [
    "df.info()"
   ]
  },
  {
   "cell_type": "markdown",
   "metadata": {},
   "source": [
    "Proveravamo zavisnost MMRA cena"
   ]
  },
  {
   "cell_type": "code",
   "execution_count": 26,
   "metadata": {},
   "outputs": [
    {
     "data": {
      "image/png": "[encoded data removed]",
      "text/plain": [
       "<Figure size 432x288 with 1 Axes>"
      ]
     },
     "metadata": {},
     "output_type": "display_data"
    }
   ],
   "source": [
    "\n",
    "import matplotlib.pyplot as plt\n",
    "plt.scatter(df['MMRCurrentAuctionCleanPrice'], df['MMRCurrentAuctionAveragePrice'])\n",
    "plt.show()"
   ]
  },
  {
   "cell_type": "code",
   "execution_count": 27,
   "metadata": {},
   "outputs": [
    {
     "data": {
      "image/png": "[encoded data removed]",
      "text/plain": [
       "<Figure size 432x288 with 1 Axes>"
      ]
     },
     "metadata": {},
     "output_type": "display_data"
    }
   ],
   "source": [
    "plt.scatter(df['MMRAcquisitionRetailAveragePrice'], df['MMRAcquisitonRetailCleanPrice'])\n",
    "plt.show()\n"
   ]
  },
  {
   "cell_type": "code",
   "execution_count": 28,
   "metadata": {},
   "outputs": [
    {
     "data": {
      "image/png": "[encoded data removed]",
      "text/plain": [
       "<Figure size 432x288 with 1 Axes>"
      ]
     },
     "metadata": {},
     "output_type": "display_data"
    }
   ],
   "source": [
    "plt.scatter(df['MMRAcquisitionRetailAveragePrice'], df['MMRCurrentAuctionAveragePrice'])\n",
    "plt.show()\n"
   ]
  },
  {
   "cell_type": "markdown",
   "metadata": {},
   "source": [
    "Sredjujemo faktorsku varijablu Color na manji broj faktora"
   ]
  },
  {
   "cell_type": "code",
   "execution_count": 29,
   "metadata": {},
   "outputs": [
    {
     "data": {
      "text/plain": [
       "SILVER       1379\n",
       "WHITE        1119\n",
       "BLUE          930\n",
       "BLACK         735\n",
       "GREY          710\n",
       "RED           570\n",
       "GOLD          504\n",
       "GREEN         297\n",
       "MAROON        210\n",
       "BEIGE         170\n",
       "BROWN          52\n",
       "PURPLE         32\n",
       "ORANGE         29\n",
       "YELLOW         28\n",
       "OTHER          28\n",
       "NOT AVAIL       5\n",
       "Name: Color, dtype: int64"
      ]
     },
     "execution_count": 29,
     "metadata": {},
     "output_type": "execute_result"
    }
   ],
   "source": [
    "df['Color'].value_counts()"
   ]
  },
  {
   "cell_type": "code",
   "execution_count": 31,
   "metadata": {},
   "outputs": [],
   "source": [
    "rare=df.groupby('Color')['Color'].transform('count').lt(500)\n",
    "df.loc[rare, 'Color']='other'"
   ]
  },
  {
   "cell_type": "code",
   "execution_count": 32,
   "metadata": {},
   "outputs": [
    {
     "data": {
      "text/plain": [
       "GM          2328\n",
       "CHRYSLER    2164\n",
       "OTHER       1158\n",
       "FORD        1147\n",
       "Name: TopThreeAmericanName, dtype: int64"
      ]
     },
     "execution_count": 32,
     "metadata": {},
     "output_type": "execute_result"
    }
   ],
   "source": [
    "df['TopThreeAmericanName'].value_counts()"
   ]
  },
  {
   "cell_type": "markdown",
   "metadata": {},
   "source": [
    "Izbacujemo dalje jos tri varijable Trim RefID i WheelTypeID zbog manjka  informacija i previse faktora koje sadrze"
   ]
  },
  {
   "cell_type": "code",
   "execution_count": 33,
   "metadata": {},
   "outputs": [],
   "source": [
    "df.drop(['Trim','RefId', 'WheelTypeID'], axis=1, inplace=True)"
   ]
  },
  {
   "cell_type": "markdown",
   "metadata": {},
   "source": [
    "Za varijablu aukcija koja ima veliki broj nedostajucih vrednosti da bismo zadrzali informacije uvescemo dodatni faktor none"
   ]
  },
  {
   "cell_type": "code",
   "execution_count": 34,
   "metadata": {},
   "outputs": [],
   "source": [
    "df['Auction']=df['Auction'].fillna('none')"
   ]
  },
  {
   "cell_type": "markdown",
   "metadata": {},
   "source": [
    "Analiziracemo raspodelu nekih numerickih varijabli u odnosu na target varijablu, da bismo ocenili da li ce uticati na predvidjanje"
   ]
  },
  {
   "cell_type": "code",
   "execution_count": 123,
   "metadata": {},
   "outputs": [
    {
     "data": {
      "image/png": "[encoded data removed]",
      "text/plain": [
       "<Figure size 864x864 with 6 Axes>"
      ]
     },
     "metadata": {},
     "output_type": "display_data"
    }
   ],
   "source": [
    "fig, axes = plt.subplots(nrows=2, ncols=3, figsize=(12,12))\n",
    "columns_show = [ 'VehicleAge','VehOdo', 'MMRAcquisitionAuctionAveragePrice', 'MMRCurrentAuctionAveragePrice', 'VehBCost', 'WarrantyCost']\n",
    "n = [1,0]\n",
    "for ax, catplot in zip(axes.flatten(), df[columns_show].columns):\n",
    "    for h in n:\n",
    "        subset = df[df['IsBadBuy'] == h]\n",
    "        sns.distplot(subset[catplot], ax = ax, hist = False, kde = True,\n",
    "                 kde_kws = {'linewidth': 3},\n",
    "                 label = h)"
   ]
  },
  {
   "cell_type": "code",
   "execution_count": 36,
   "metadata": {},
   "outputs": [],
   "source": [
    "df.drop(['Model','SubModel'], axis=1, inplace=True)"
   ]
  },
  {
   "cell_type": "markdown",
   "metadata": {},
   "source": [
    "Izbacujemo varijablu godina jer svakako postoji informacija o starosti vozila, koja je prakticnija za predvidjanje, kao i varijablu VNST zbog prevelikog broja nedostajucih vrednosti, kao i VNZIP1 koji predstavlja zip kod drzave"
   ]
  },
  {
   "cell_type": "code",
   "execution_count": 37,
   "metadata": {},
   "outputs": [],
   "source": [
    "df.drop('VehYear', axis=1, inplace=True)"
   ]
  },
  {
   "cell_type": "code",
   "execution_count": 39,
   "metadata": {},
   "outputs": [],
   "source": [
    "df.drop('VNST', axis=1, inplace=True)\n"
   ]
  },
  {
   "cell_type": "code",
   "execution_count": 40,
   "metadata": {},
   "outputs": [],
   "source": [
    "df.drop('VNZIP1', axis=1, inplace=True)"
   ]
  },
  {
   "cell_type": "code",
   "execution_count": 41,
   "metadata": {},
   "outputs": [
    {
     "data": {
      "text/plain": [
       "PurchDate                               0\n",
       "Auction                                 0\n",
       "VehicleAge                              0\n",
       "Make                                    0\n",
       "Color                                   0\n",
       "Transmission                            0\n",
       "WheelType                             339\n",
       "VehOdo                                  0\n",
       "Nationality                             1\n",
       "Size                                    1\n",
       "TopThreeAmericanName                    1\n",
       "MMRAcquisitionAuctionAveragePrice       1\n",
       "MMRAcquisitionAuctionCleanPrice         1\n",
       "MMRAcquisitionRetailAveragePrice        1\n",
       "MMRAcquisitonRetailCleanPrice           1\n",
       "MMRCurrentAuctionAveragePrice          21\n",
       "MMRCurrentAuctionCleanPrice            21\n",
       "MMRCurrentRetailAveragePrice           21\n",
       "MMRCurrentRetailCleanPrice             21\n",
       "BYRNO                                   0\n",
       "VehBCost                                0\n",
       "IsOnlineSale                            0\n",
       "WarrantyCost                            0\n",
       "IsBadBuy                                0\n",
       "vent                                    0\n",
       "doors                                   0\n",
       "Liter                                3022\n",
       "WD                                      0\n",
       "dtype: int64"
      ]
     },
     "execution_count": 41,
     "metadata": {},
     "output_type": "execute_result"
    }
   ],
   "source": [
    "df.isnull().sum()"
   ]
  },
  {
   "cell_type": "markdown",
   "metadata": {},
   "source": [
    "# Nedostajuce vrednosti\n"
   ]
  },
  {
   "cell_type": "markdown",
   "metadata": {},
   "source": [
    "### Numericke varijable"
   ]
  },
  {
   "cell_type": "code",
   "execution_count": 42,
   "metadata": {},
   "outputs": [],
   "source": [
    "num_col_na=['MMRAcquisitionAuctionAveragePrice','MMRAcquisitionAuctionCleanPrice','MMRAcquisitionRetailAveragePrice','MMRAcquisitonRetailCleanPrice',\n",
    "            'MMRCurrentAuctionAveragePrice','MMRCurrentAuctionCleanPrice','MMRCurrentRetailAveragePrice','MMRCurrentRetailCleanPrice', 'Liter']"
   ]
  },
  {
   "cell_type": "code",
   "execution_count": 43,
   "metadata": {},
   "outputs": [],
   "source": [
    "cat_col_na=['WheelType', 'Nationality', 'Size', 'TopThreeAmericanName']"
   ]
  },
  {
   "cell_type": "markdown",
   "metadata": {},
   "source": [
    "Primecujemo da sve numericke varijable podlezu normalnoj raspodeli jer su njihova srednja vrednost i medijana priblizno jednaki"
   ]
  },
  {
   "cell_type": "code",
   "execution_count": 44,
   "metadata": {},
   "outputs": [
    {
     "data": {
      "text/html": [
       "<div>\n",
       "<style scoped>\n",
       "    .dataframe tbody tr th:only-of-type {\n",
       "        vertical-align: middle;\n",
       "    }\n",
       "\n",
       "    .dataframe tbody tr th {\n",
       "        vertical-align: top;\n",
       "    }\n",
       "\n",
       "    .dataframe thead th {\n",
       "        text-align: right;\n",
       "    }\n",
       "</style>\n",
       "<table border=\"1\" class=\"dataframe\">\n",
       "  <thead>\n",
       "    <tr style=\"text-align: right;\">\n",
       "      <th></th>\n",
       "      <th>MMRAcquisitionAuctionAveragePrice</th>\n",
       "      <th>MMRAcquisitionAuctionCleanPrice</th>\n",
       "      <th>MMRAcquisitionRetailAveragePrice</th>\n",
       "      <th>MMRAcquisitonRetailCleanPrice</th>\n",
       "      <th>MMRCurrentAuctionAveragePrice</th>\n",
       "      <th>MMRCurrentAuctionCleanPrice</th>\n",
       "      <th>MMRCurrentRetailAveragePrice</th>\n",
       "      <th>MMRCurrentRetailCleanPrice</th>\n",
       "      <th>Liter</th>\n",
       "    </tr>\n",
       "  </thead>\n",
       "  <tbody>\n",
       "    <tr>\n",
       "      <th>count</th>\n",
       "      <td>6797.000000</td>\n",
       "      <td>6797.000000</td>\n",
       "      <td>6797.000000</td>\n",
       "      <td>6797.000000</td>\n",
       "      <td>6777.000000</td>\n",
       "      <td>6777.000000</td>\n",
       "      <td>6777.000000</td>\n",
       "      <td>6777.000000</td>\n",
       "      <td>3776.000000</td>\n",
       "    </tr>\n",
       "    <tr>\n",
       "      <th>mean</th>\n",
       "      <td>6153.684125</td>\n",
       "      <td>7405.387524</td>\n",
       "      <td>8517.821539</td>\n",
       "      <td>9880.576431</td>\n",
       "      <td>6152.180906</td>\n",
       "      <td>7418.757710</td>\n",
       "      <td>8786.704146</td>\n",
       "      <td>10168.581231</td>\n",
       "      <td>3.352595</td>\n",
       "    </tr>\n",
       "    <tr>\n",
       "      <th>std</th>\n",
       "      <td>2465.206950</td>\n",
       "      <td>2731.341954</td>\n",
       "      <td>3145.988442</td>\n",
       "      <td>3383.682106</td>\n",
       "      <td>2431.564892</td>\n",
       "      <td>2682.628698</td>\n",
       "      <td>3088.425185</td>\n",
       "      <td>3305.444219</td>\n",
       "      <td>0.944502</td>\n",
       "    </tr>\n",
       "    <tr>\n",
       "      <th>min</th>\n",
       "      <td>0.000000</td>\n",
       "      <td>0.000000</td>\n",
       "      <td>0.000000</td>\n",
       "      <td>0.000000</td>\n",
       "      <td>0.000000</td>\n",
       "      <td>0.000000</td>\n",
       "      <td>0.000000</td>\n",
       "      <td>0.000000</td>\n",
       "      <td>2.000000</td>\n",
       "    </tr>\n",
       "    <tr>\n",
       "      <th>25%</th>\n",
       "      <td>4273.000000</td>\n",
       "      <td>5415.000000</td>\n",
       "      <td>6301.000000</td>\n",
       "      <td>7493.000000</td>\n",
       "      <td>4274.000000</td>\n",
       "      <td>5434.000000</td>\n",
       "      <td>6531.000000</td>\n",
       "      <td>7810.000000</td>\n",
       "      <td>2.400000</td>\n",
       "    </tr>\n",
       "    <tr>\n",
       "      <th>50%</th>\n",
       "      <td>6148.000000</td>\n",
       "      <td>7353.000000</td>\n",
       "      <td>8473.000000</td>\n",
       "      <td>9821.000000</td>\n",
       "      <td>6091.000000</td>\n",
       "      <td>7352.000000</td>\n",
       "      <td>8760.000000</td>\n",
       "      <td>10114.000000</td>\n",
       "      <td>3.400000</td>\n",
       "    </tr>\n",
       "    <tr>\n",
       "      <th>75%</th>\n",
       "      <td>7774.000000</td>\n",
       "      <td>9014.000000</td>\n",
       "      <td>10626.000000</td>\n",
       "      <td>12083.000000</td>\n",
       "      <td>7720.000000</td>\n",
       "      <td>9014.000000</td>\n",
       "      <td>10884.000000</td>\n",
       "      <td>12308.000000</td>\n",
       "      <td>3.900000</td>\n",
       "    </tr>\n",
       "    <tr>\n",
       "      <th>max</th>\n",
       "      <td>21611.000000</td>\n",
       "      <td>24015.000000</td>\n",
       "      <td>23840.000000</td>\n",
       "      <td>26436.000000</td>\n",
       "      <td>21837.000000</td>\n",
       "      <td>25847.000000</td>\n",
       "      <td>24084.000000</td>\n",
       "      <td>28415.000000</td>\n",
       "      <td>5.900000</td>\n",
       "    </tr>\n",
       "  </tbody>\n",
       "</table>\n",
       "</div>"
      ],
      "text/plain": [
       "       MMRAcquisitionAuctionAveragePrice  MMRAcquisitionAuctionCleanPrice  \\\n",
       "count                        6797.000000                      6797.000000   \n",
       "mean                         6153.684125                      7405.387524   \n",
       "std                          2465.206950                      2731.341954   \n",
       "min                             0.000000                         0.000000   \n",
       "25%                          4273.000000                      5415.000000   \n",
       "50%                          6148.000000                      7353.000000   \n",
       "75%                          7774.000000                      9014.000000   \n",
       "max                         21611.000000                     24015.000000   \n",
       "\n",
       "       MMRAcquisitionRetailAveragePrice  MMRAcquisitonRetailCleanPrice  \\\n",
       "count                       6797.000000                    6797.000000   \n",
       "mean                        8517.821539                    9880.576431   \n",
       "std                         3145.988442                    3383.682106   \n",
       "min                            0.000000                       0.000000   \n",
       "25%                         6301.000000                    7493.000000   \n",
       "50%                         8473.000000                    9821.000000   \n",
       "75%                        10626.000000                   12083.000000   \n",
       "max                        23840.000000                   26436.000000   \n",
       "\n",
       "       MMRCurrentAuctionAveragePrice  MMRCurrentAuctionCleanPrice  \\\n",
       "count                    6777.000000                  6777.000000   \n",
       "mean                     6152.180906                  7418.757710   \n",
       "std                      2431.564892                  2682.628698   \n",
       "min                         0.000000                     0.000000   \n",
       "25%                      4274.000000                  5434.000000   \n",
       "50%                      6091.000000                  7352.000000   \n",
       "75%                      7720.000000                  9014.000000   \n",
       "max                     21837.000000                 25847.000000   \n",
       "\n",
       "       MMRCurrentRetailAveragePrice  MMRCurrentRetailCleanPrice        Liter  \n",
       "count                   6777.000000                 6777.000000  3776.000000  \n",
       "mean                    8786.704146                10168.581231     3.352595  \n",
       "std                     3088.425185                 3305.444219     0.944502  \n",
       "min                        0.000000                    0.000000     2.000000  \n",
       "25%                     6531.000000                 7810.000000     2.400000  \n",
       "50%                     8760.000000                10114.000000     3.400000  \n",
       "75%                    10884.000000                12308.000000     3.900000  \n",
       "max                    24084.000000                28415.000000     5.900000  "
      ]
     },
     "execution_count": 44,
     "metadata": {},
     "output_type": "execute_result"
    }
   ],
   "source": [
    "df[num_col_na].describe()"
   ]
  },
  {
   "cell_type": "markdown",
   "metadata": {},
   "source": [
    "Zbog normalne raspodele koristimo srednju vrednost za inputaciju"
   ]
  },
  {
   "cell_type": "code",
   "execution_count": 45,
   "metadata": {},
   "outputs": [],
   "source": [
    "for col in num_col_na:\n",
    "    df[col].fillna(df[col].mean(), inplace=True)"
   ]
  },
  {
   "cell_type": "markdown",
   "metadata": {},
   "source": [
    "### Kategoricke varijable"
   ]
  },
  {
   "cell_type": "markdown",
   "metadata": {},
   "source": [
    "Nedostajuce vrednosti zamenjujemo modusom"
   ]
  },
  {
   "cell_type": "code",
   "execution_count": 46,
   "metadata": {},
   "outputs": [],
   "source": [
    "from scipy import stats"
   ]
  },
  {
   "cell_type": "code",
   "execution_count": 47,
   "metadata": {},
   "outputs": [],
   "source": [
    "for col in cat_col_na:\n",
    "    df[col].fillna(df[col].mode()[0], inplace=True)"
   ]
  },
  {
   "cell_type": "markdown",
   "metadata": {},
   "source": [
    "Definisemo ordinalne i binarne varijable"
   ]
  },
  {
   "cell_type": "code",
   "execution_count": 48,
   "metadata": {},
   "outputs": [],
   "source": [
    "sizes={'SPORTS':0, 'COMPACT':1, 'MEDIUM':2, 'CROSSOVER':3, 'SPECIALTY':4, 'SMALL SUV':5, 'VAN':6, 'MEDIUM SUV': 7, 'SMALL TRUCK':8, 'LARGE':9, 'LARGE SUV':10, 'LARGE TRUCK':11}\n",
    "df['Size'].replace(sizes, inplace=True)"
   ]
  },
  {
   "cell_type": "code",
   "execution_count": 49,
   "metadata": {},
   "outputs": [],
   "source": [
    "df['WheelType'].replace(('Alloy', 'Covers'), (1,0), inplace=True)"
   ]
  },
  {
   "cell_type": "code",
   "execution_count": 50,
   "metadata": {},
   "outputs": [],
   "source": [
    "df['Transmission'].replace(('AUTO', 'MANUAL'), (1,0), inplace=True)"
   ]
  },
  {
   "cell_type": "code",
   "execution_count": 51,
   "metadata": {},
   "outputs": [],
   "source": [
    "top={'GM':1, 'FORD':1, 'CHRYSLER':1, 'OTHER':0}\n",
    "df['TopThreeAmericanName'].replace(top, inplace=True)"
   ]
  },
  {
   "cell_type": "code",
   "execution_count": 52,
   "metadata": {},
   "outputs": [
    {
     "data": {
      "text/plain": [
       "PurchDate                            0\n",
       "Auction                              0\n",
       "VehicleAge                           0\n",
       "Make                                 0\n",
       "Color                                0\n",
       "Transmission                         0\n",
       "WheelType                            0\n",
       "VehOdo                               0\n",
       "Nationality                          0\n",
       "Size                                 0\n",
       "TopThreeAmericanName                 0\n",
       "MMRAcquisitionAuctionAveragePrice    0\n",
       "MMRAcquisitionAuctionCleanPrice      0\n",
       "MMRAcquisitionRetailAveragePrice     0\n",
       "MMRAcquisitonRetailCleanPrice        0\n",
       "MMRCurrentAuctionAveragePrice        0\n",
       "MMRCurrentAuctionCleanPrice          0\n",
       "MMRCurrentRetailAveragePrice         0\n",
       "MMRCurrentRetailCleanPrice           0\n",
       "BYRNO                                0\n",
       "VehBCost                             0\n",
       "IsOnlineSale                         0\n",
       "WarrantyCost                         0\n",
       "IsBadBuy                             0\n",
       "vent                                 0\n",
       "doors                                0\n",
       "Liter                                0\n",
       "WD                                   0\n",
       "dtype: int64"
      ]
     },
     "execution_count": 52,
     "metadata": {},
     "output_type": "execute_result"
    }
   ],
   "source": [
    "df.isnull().sum()"
   ]
  },
  {
   "cell_type": "code",
   "execution_count": 54,
   "metadata": {},
   "outputs": [
    {
     "data": {
      "text/plain": [
       "CHEVROLET     1574\n",
       "DODGE         1187\n",
       "FORD          1059\n",
       "CHRYSLER       827\n",
       "PONTIAC        395\n",
       "KIA            232\n",
       "SATURN         211\n",
       "NISSAN         195\n",
       "HYUNDAI        181\n",
       "JEEP           150\n",
       "SUZUKI         132\n",
       "MAZDA          112\n",
       "TOYOTA         109\n",
       "MITSUBISHI      97\n",
       "MERCURY         81\n",
       "BUICK           63\n",
       "GMC             61\n",
       "HONDA           52\n",
       "OLDSMOBILE      22\n",
       "VOLKSWAGEN      14\n",
       "ISUZU            8\n",
       "LINCOLN          7\n",
       "INFINITI         6\n",
       "MINI             5\n",
       "SCION            5\n",
       "ACURA            4\n",
       "VOLVO            4\n",
       "LEXUS            1\n",
       "HUMMER           1\n",
       "CADILLAC         1\n",
       "PLYMOUTH         1\n",
       "SUBARU           1\n",
       "Name: Make, dtype: int64"
      ]
     },
     "execution_count": 54,
     "metadata": {},
     "output_type": "execute_result"
    }
   ],
   "source": [
    "df['Make'].value_counts()"
   ]
  },
  {
   "cell_type": "code",
   "execution_count": 55,
   "metadata": {},
   "outputs": [],
   "source": [
    "less_common=df.groupby('Make')['Make'].transform('count').lt(800)\n",
    "df.loc[less_common, 'Make']='other'"
   ]
  },
  {
   "cell_type": "code",
   "execution_count": 56,
   "metadata": {},
   "outputs": [
    {
     "data": {
      "text/plain": [
       "other        2151\n",
       "CHEVROLET    1574\n",
       "DODGE        1187\n",
       "FORD         1059\n",
       "CHRYSLER      827\n",
       "Name: Make, dtype: int64"
      ]
     },
     "execution_count": 56,
     "metadata": {},
     "output_type": "execute_result"
    }
   ],
   "source": [
    "df['Make'].value_counts()"
   ]
  },
  {
   "cell_type": "code",
   "execution_count": 57,
   "metadata": {},
   "outputs": [],
   "source": [
    "vents={'not_spec':0, '4':1, '5':2, '6':3, '8':4, '12':5}\n",
    "df['vent']=df['vent'].replace(vents)"
   ]
  },
  {
   "cell_type": "code",
   "execution_count": 58,
   "metadata": {},
   "outputs": [
    {
     "data": {
      "text/plain": [
       "0    3063\n",
       "3    2309\n",
       "1    1076\n",
       "4     348\n",
       "2       1\n",
       "5       1\n",
       "Name: vent, dtype: int64"
      ]
     },
     "execution_count": 58,
     "metadata": {},
     "output_type": "execute_result"
    }
   ],
   "source": [
    "df['vent'].value_counts()"
   ]
  },
  {
   "cell_type": "code",
   "execution_count": 59,
   "metadata": {},
   "outputs": [],
   "source": [
    "doorss={'not_spec':0, '2D':1, '4D':2, '5D':3}\n",
    "df['doors']=df['doors'].replace(doorss)"
   ]
  },
  {
   "cell_type": "markdown",
   "metadata": {},
   "source": [
    "Na kraju izbacujemo i datum kupovine koji obuhvata samo uske vremenske periode i BYRNO koji ponovno ne daje korisne informacije"
   ]
  },
  {
   "cell_type": "code",
   "execution_count": 61,
   "metadata": {},
   "outputs": [],
   "source": [
    "df.drop(['PurchDate', 'BYRNO'], axis=1, inplace=True)"
   ]
  },
  {
   "cell_type": "markdown",
   "metadata": {},
   "source": [
    "## Sredjivanje autlajera"
   ]
  },
  {
   "cell_type": "code",
   "execution_count": 62,
   "metadata": {},
   "outputs": [
    {
     "data": {
      "text/plain": [
       "(6798, 26)"
      ]
     },
     "execution_count": 62,
     "metadata": {},
     "output_type": "execute_result"
    }
   ],
   "source": [
    "df.shape"
   ]
  },
  {
   "cell_type": "code",
   "execution_count": 63,
   "metadata": {},
   "outputs": [
    {
     "data": {
      "text/plain": [
       "(6530, 26)"
      ]
     },
     "execution_count": 63,
     "metadata": {},
     "output_type": "execute_result"
    }
   ],
   "source": [
    "numerics=['MMRAcquisitionAuctionAveragePrice','MMRAcquisitionAuctionCleanPrice','MMRAcquisitionRetailAveragePrice','MMRAcquisitonRetailCleanPrice',\n",
    "            'MMRCurrentAuctionAveragePrice','MMRCurrentAuctionCleanPrice','MMRCurrentRetailAveragePrice','MMRCurrentRetailCleanPrice','VehicleAge',\n",
    "             'VehOdo','VehBCost','WarrantyCost','Liter']\n",
    "z_score = np.abs(stats.zscore(df[numerics]))\n",
    "df = df[(z_score < 3).all(axis=1)]\n",
    "df.shape"
   ]
  },
  {
   "cell_type": "code",
   "execution_count": 64,
   "metadata": {},
   "outputs": [],
   "source": [
    "df.reset_index(inplace=True)"
   ]
  },
  {
   "cell_type": "markdown",
   "metadata": {},
   "source": [
    "Zapazamo da su podaci nebalansirani"
   ]
  },
  {
   "cell_type": "code",
   "execution_count": 97,
   "metadata": {},
   "outputs": [
    {
     "data": {
      "text/plain": [
       "0    5700\n",
       "1     830\n",
       "Name: IsBadBuy, dtype: int64"
      ]
     },
     "execution_count": 97,
     "metadata": {},
     "output_type": "execute_result"
    }
   ],
   "source": [
    "df['IsBadBuy'].value_counts()"
   ]
  },
  {
   "cell_type": "code",
   "execution_count": 65,
   "metadata": {},
   "outputs": [],
   "source": [
    "X=df.drop('IsBadBuy', axis=1)\n",
    "y=df['IsBadBuy']"
   ]
  },
  {
   "cell_type": "code",
   "execution_count": 66,
   "metadata": {},
   "outputs": [
    {
     "data": {
      "text/plain": [
       "Index(['index', 'Auction', 'VehicleAge', 'Make', 'Color', 'Transmission',\n",
       "       'WheelType', 'VehOdo', 'Nationality', 'Size', 'TopThreeAmericanName',\n",
       "       'MMRAcquisitionAuctionAveragePrice', 'MMRAcquisitionAuctionCleanPrice',\n",
       "       'MMRAcquisitionRetailAveragePrice', 'MMRAcquisitonRetailCleanPrice',\n",
       "       'MMRCurrentAuctionAveragePrice', 'MMRCurrentAuctionCleanPrice',\n",
       "       'MMRCurrentRetailAveragePrice', 'MMRCurrentRetailCleanPrice',\n",
       "       'VehBCost', 'IsOnlineSale', 'WarrantyCost', 'IsBadBuy', 'vent', 'doors',\n",
       "       'Liter', 'WD'],\n",
       "      dtype='object')"
      ]
     },
     "execution_count": 66,
     "metadata": {},
     "output_type": "execute_result"
    }
   ],
   "source": [
    "df.columns"
   ]
  },
  {
   "cell_type": "markdown",
   "metadata": {},
   "source": [
    "Vrsimo standardizaciju numerickih i enkodiranje nominalnih kategorickih varijabli"
   ]
  },
  {
   "cell_type": "code",
   "execution_count": 67,
   "metadata": {},
   "outputs": [],
   "source": [
    "from sklearn.preprocessing import StandardScaler,OneHotEncoder\n",
    "from sklearn.compose import ColumnTransformer"
   ]
  },
  {
   "cell_type": "code",
   "execution_count": 68,
   "metadata": {},
   "outputs": [
    {
     "data": {
      "text/plain": [
       "ColumnTransformer(transformers=[('num', StandardScaler(),\n",
       "                                 ['MMRAcquisitionAuctionAveragePrice',\n",
       "                                  'MMRAcquisitionAuctionCleanPrice',\n",
       "                                  'MMRAcquisitionRetailAveragePrice',\n",
       "                                  'MMRAcquisitonRetailCleanPrice',\n",
       "                                  'MMRCurrentAuctionAveragePrice',\n",
       "                                  'MMRCurrentAuctionCleanPrice',\n",
       "                                  'MMRCurrentRetailAveragePrice',\n",
       "                                  'MMRCurrentRetailCleanPrice', 'VehicleAge',\n",
       "                                  'VehOdo', 'VehBCost', 'WarrantyCost',\n",
       "                                  'Liter']),\n",
       "                                ('cat', OneHotEncoder(sparse=False),\n",
       "                                 Index(['Auction', 'Make', 'Color', 'Nationality', 'WD'], dtype='object'))])"
      ]
     },
     "execution_count": 68,
     "metadata": {},
     "output_type": "execute_result"
    }
   ],
   "source": [
    "numerics=['MMRAcquisitionAuctionAveragePrice','MMRAcquisitionAuctionCleanPrice','MMRAcquisitionRetailAveragePrice','MMRAcquisitonRetailCleanPrice',\n",
    "            'MMRCurrentAuctionAveragePrice','MMRCurrentAuctionCleanPrice','MMRCurrentRetailAveragePrice','MMRCurrentRetailCleanPrice','VehicleAge',\n",
    "             'VehOdo','VehBCost','WarrantyCost','Liter', 'Size','vent','doors']\n",
    "numeric_transformator = StandardScaler()\n",
    "\n",
    "categoris = X.select_dtypes(object).columns\n",
    "categoric_transformator = OneHotEncoder( sparse=False)\n",
    "\n",
    "preprocessor = ColumnTransformer(\n",
    "    transformers=[\n",
    "        ('num', numeric_transformator, numerics),\n",
    "        ('cat', categoric_transformator, categoris)\n",
    "    ]\n",
    ")\n",
    "\n",
    "preprocessor.fit(X)"
   ]
  },
  {
   "cell_type": "code",
   "execution_count": 69,
   "metadata": {},
   "outputs": [
    {
     "data": {
      "text/html": [
       "<div>\n",
       "<style scoped>\n",
       "    .dataframe tbody tr th:only-of-type {\n",
       "        vertical-align: middle;\n",
       "    }\n",
       "\n",
       "    .dataframe tbody tr th {\n",
       "        vertical-align: top;\n",
       "    }\n",
       "\n",
       "    .dataframe thead th {\n",
       "        text-align: right;\n",
       "    }\n",
       "</style>\n",
       "<table border=\"1\" class=\"dataframe\">\n",
       "  <thead>\n",
       "    <tr style=\"text-align: right;\">\n",
       "      <th></th>\n",
       "      <th>MMRAcquisitionAuctionAveragePrice</th>\n",
       "      <th>MMRAcquisitionAuctionCleanPrice</th>\n",
       "      <th>MMRAcquisitionRetailAveragePrice</th>\n",
       "      <th>MMRAcquisitonRetailCleanPrice</th>\n",
       "      <th>MMRCurrentAuctionAveragePrice</th>\n",
       "      <th>MMRCurrentAuctionCleanPrice</th>\n",
       "      <th>MMRCurrentRetailAveragePrice</th>\n",
       "      <th>MMRCurrentRetailCleanPrice</th>\n",
       "      <th>VehicleAge</th>\n",
       "      <th>VehOdo</th>\n",
       "      <th>...</th>\n",
       "      <th>Color_other</th>\n",
       "      <th>Nationality_AMERICAN</th>\n",
       "      <th>Nationality_OTHER</th>\n",
       "      <th>Nationality_OTHER ASIAN</th>\n",
       "      <th>Nationality_TOP LINE ASIAN</th>\n",
       "      <th>WD_2WD</th>\n",
       "      <th>WD_4WD</th>\n",
       "      <th>WD_AWD</th>\n",
       "      <th>WD_FWD</th>\n",
       "      <th>WD_not_spec</th>\n",
       "    </tr>\n",
       "  </thead>\n",
       "  <tbody>\n",
       "    <tr>\n",
       "      <th>0</th>\n",
       "      <td>-1.264764</td>\n",
       "      <td>-1.025373</td>\n",
       "      <td>-0.515721</td>\n",
       "      <td>-0.433025</td>\n",
       "      <td>-0.920486</td>\n",
       "      <td>-0.734120</td>\n",
       "      <td>-0.553495</td>\n",
       "      <td>-0.462677</td>\n",
       "      <td>-0.097365</td>\n",
       "      <td>0.166129</td>\n",
       "      <td>...</td>\n",
       "      <td>1.0</td>\n",
       "      <td>1.0</td>\n",
       "      <td>0.0</td>\n",
       "      <td>0.0</td>\n",
       "      <td>0.0</td>\n",
       "      <td>0.0</td>\n",
       "      <td>0.0</td>\n",
       "      <td>0.0</td>\n",
       "      <td>0.0</td>\n",
       "      <td>1.0</td>\n",
       "    </tr>\n",
       "    <tr>\n",
       "      <th>1</th>\n",
       "      <td>-1.834567</td>\n",
       "      <td>-1.850890</td>\n",
       "      <td>-1.284639</td>\n",
       "      <td>-1.306387</td>\n",
       "      <td>-1.893007</td>\n",
       "      <td>-1.914448</td>\n",
       "      <td>-1.511963</td>\n",
       "      <td>-1.500491</td>\n",
       "      <td>0.486468</td>\n",
       "      <td>-0.402478</td>\n",
       "      <td>...</td>\n",
       "      <td>0.0</td>\n",
       "      <td>1.0</td>\n",
       "      <td>0.0</td>\n",
       "      <td>0.0</td>\n",
       "      <td>0.0</td>\n",
       "      <td>0.0</td>\n",
       "      <td>0.0</td>\n",
       "      <td>0.0</td>\n",
       "      <td>0.0</td>\n",
       "      <td>1.0</td>\n",
       "    </tr>\n",
       "    <tr>\n",
       "      <th>2</th>\n",
       "      <td>-0.955268</td>\n",
       "      <td>-0.908969</td>\n",
       "      <td>-0.253245</td>\n",
       "      <td>-0.354116</td>\n",
       "      <td>-1.270257</td>\n",
       "      <td>-1.209739</td>\n",
       "      <td>-0.694273</td>\n",
       "      <td>-0.720501</td>\n",
       "      <td>-0.097365</td>\n",
       "      <td>-0.142127</td>\n",
       "      <td>...</td>\n",
       "      <td>0.0</td>\n",
       "      <td>1.0</td>\n",
       "      <td>0.0</td>\n",
       "      <td>0.0</td>\n",
       "      <td>0.0</td>\n",
       "      <td>0.0</td>\n",
       "      <td>0.0</td>\n",
       "      <td>0.0</td>\n",
       "      <td>0.0</td>\n",
       "      <td>1.0</td>\n",
       "    </tr>\n",
       "    <tr>\n",
       "      <th>3</th>\n",
       "      <td>-0.960492</td>\n",
       "      <td>-0.966775</td>\n",
       "      <td>-0.595473</td>\n",
       "      <td>-0.395149</td>\n",
       "      <td>-0.621317</td>\n",
       "      <td>-0.624643</td>\n",
       "      <td>-0.206564</td>\n",
       "      <td>-0.218543</td>\n",
       "      <td>0.486468</td>\n",
       "      <td>0.669267</td>\n",
       "      <td>...</td>\n",
       "      <td>0.0</td>\n",
       "      <td>0.0</td>\n",
       "      <td>0.0</td>\n",
       "      <td>1.0</td>\n",
       "      <td>0.0</td>\n",
       "      <td>0.0</td>\n",
       "      <td>0.0</td>\n",
       "      <td>0.0</td>\n",
       "      <td>0.0</td>\n",
       "      <td>1.0</td>\n",
       "    </tr>\n",
       "    <tr>\n",
       "      <th>4</th>\n",
       "      <td>0.130361</td>\n",
       "      <td>0.277638</td>\n",
       "      <td>0.640181</td>\n",
       "      <td>0.825097</td>\n",
       "      <td>0.466166</td>\n",
       "      <td>0.635157</td>\n",
       "      <td>0.826271</td>\n",
       "      <td>0.794825</td>\n",
       "      <td>0.486468</td>\n",
       "      <td>0.330393</td>\n",
       "      <td>...</td>\n",
       "      <td>0.0</td>\n",
       "      <td>1.0</td>\n",
       "      <td>0.0</td>\n",
       "      <td>0.0</td>\n",
       "      <td>0.0</td>\n",
       "      <td>1.0</td>\n",
       "      <td>0.0</td>\n",
       "      <td>0.0</td>\n",
       "      <td>0.0</td>\n",
       "      <td>0.0</td>\n",
       "    </tr>\n",
       "  </tbody>\n",
       "</table>\n",
       "<p>5 rows × 38 columns</p>\n",
       "</div>"
      ],
      "text/plain": [
       "   MMRAcquisitionAuctionAveragePrice  MMRAcquisitionAuctionCleanPrice  \\\n",
       "0                          -1.264764                        -1.025373   \n",
       "1                          -1.834567                        -1.850890   \n",
       "2                          -0.955268                        -0.908969   \n",
       "3                          -0.960492                        -0.966775   \n",
       "4                           0.130361                         0.277638   \n",
       "\n",
       "   MMRAcquisitionRetailAveragePrice  MMRAcquisitonRetailCleanPrice  \\\n",
       "0                         -0.515721                      -0.433025   \n",
       "1                         -1.284639                      -1.306387   \n",
       "2                         -0.253245                      -0.354116   \n",
       "3                         -0.595473                      -0.395149   \n",
       "4                          0.640181                       0.825097   \n",
       "\n",
       "   MMRCurrentAuctionAveragePrice  MMRCurrentAuctionCleanPrice  \\\n",
       "0                      -0.920486                    -0.734120   \n",
       "1                      -1.893007                    -1.914448   \n",
       "2                      -1.270257                    -1.209739   \n",
       "3                      -0.621317                    -0.624643   \n",
       "4                       0.466166                     0.635157   \n",
       "\n",
       "   MMRCurrentRetailAveragePrice  MMRCurrentRetailCleanPrice  VehicleAge  \\\n",
       "0                     -0.553495                   -0.462677   -0.097365   \n",
       "1                     -1.511963                   -1.500491    0.486468   \n",
       "2                     -0.694273                   -0.720501   -0.097365   \n",
       "3                     -0.206564                   -0.218543    0.486468   \n",
       "4                      0.826271                    0.794825    0.486468   \n",
       "\n",
       "     VehOdo  ...  Color_other  Nationality_AMERICAN  Nationality_OTHER  \\\n",
       "0  0.166129  ...          1.0                   1.0                0.0   \n",
       "1 -0.402478  ...          0.0                   1.0                0.0   \n",
       "2 -0.142127  ...          0.0                   1.0                0.0   \n",
       "3  0.669267  ...          0.0                   0.0                0.0   \n",
       "4  0.330393  ...          0.0                   1.0                0.0   \n",
       "\n",
       "   Nationality_OTHER ASIAN  Nationality_TOP LINE ASIAN  WD_2WD  WD_4WD  \\\n",
       "0                      0.0                         0.0     0.0     0.0   \n",
       "1                      0.0                         0.0     0.0     0.0   \n",
       "2                      0.0                         0.0     0.0     0.0   \n",
       "3                      1.0                         0.0     0.0     0.0   \n",
       "4                      0.0                         0.0     1.0     0.0   \n",
       "\n",
       "   WD_AWD  WD_FWD  WD_not_spec  \n",
       "0     0.0     0.0          1.0  \n",
       "1     0.0     0.0          1.0  \n",
       "2     0.0     0.0          1.0  \n",
       "3     0.0     0.0          1.0  \n",
       "4     0.0     0.0          0.0  \n",
       "\n",
       "[5 rows x 38 columns]"
      ]
     },
     "execution_count": 69,
     "metadata": {},
     "output_type": "execute_result"
    }
   ],
   "source": [
    "X_fin = pd.DataFrame(preprocessor.transform(X), \n",
    "                      columns=[*numerics, *preprocessor.transformers_[1][1].get_feature_names(categoris)])\n",
    "\n",
    "X_fin.head()"
   ]
  },
  {
   "cell_type": "code",
   "execution_count": 70,
   "metadata": {},
   "outputs": [
    {
     "data": {
      "text/plain": [
       "Index(['MMRAcquisitionAuctionAveragePrice', 'MMRAcquisitionAuctionCleanPrice',\n",
       "       'MMRAcquisitionRetailAveragePrice', 'MMRAcquisitonRetailCleanPrice',\n",
       "       'MMRCurrentAuctionAveragePrice', 'MMRCurrentAuctionCleanPrice',\n",
       "       'MMRCurrentRetailAveragePrice', 'MMRCurrentRetailCleanPrice',\n",
       "       'VehicleAge', 'VehOdo', 'VehBCost', 'WarrantyCost', 'Liter',\n",
       "       'Auction_ADESA', 'Auction_OTHER', 'Auction_none', 'Make_CHEVROLET',\n",
       "       'Make_CHRYSLER', 'Make_DODGE', 'Make_FORD', 'Make_other', 'Color_BLACK',\n",
       "       'Color_BLUE', 'Color_GOLD', 'Color_GREY', 'Color_RED', 'Color_SILVER',\n",
       "       'Color_WHITE', 'Color_other', 'Nationality_AMERICAN',\n",
       "       'Nationality_OTHER', 'Nationality_OTHER ASIAN',\n",
       "       'Nationality_TOP LINE ASIAN', 'WD_2WD', 'WD_4WD', 'WD_AWD', 'WD_FWD',\n",
       "       'WD_not_spec'],\n",
       "      dtype='object')"
      ]
     },
     "execution_count": 70,
     "metadata": {},
     "output_type": "execute_result"
    }
   ],
   "source": [
    "X_fin.columns"
   ]
  },
  {
   "cell_type": "markdown",
   "metadata": {},
   "source": [
    "Izbacujemo kolone koje su visak i to biramo one koje za nas ne nose dodatnu informaciju"
   ]
  },
  {
   "cell_type": "code",
   "execution_count": 71,
   "metadata": {},
   "outputs": [],
   "source": [
    "X_fin.drop(['WD_not_spec','Nationality_OTHER', 'Color_other', 'Make_other', 'Auction_none'], axis=1, inplace=True)"
   ]
  },
  {
   "cell_type": "code",
   "execution_count": 72,
   "metadata": {},
   "outputs": [],
   "source": [
    "from sklearn.model_selection import train_test_split\n",
    "X_train, X_test, y_train, y_test = train_test_split(X_fin, y, test_size = 0.3, random_state = 42)\n"
   ]
  },
  {
   "cell_type": "markdown",
   "metadata": {},
   "source": [
    "Definisemo funkciju za ispisivanje mera evaluacije i za unakrsnu validaciju"
   ]
  },
  {
   "cell_type": "code",
   "execution_count": 74,
   "metadata": {},
   "outputs": [],
   "source": [
    "from sklearn.metrics import accuracy_score, precision_score, recall_score, f1_score\n",
    "\n",
    "def print_performance(y, y_hat):\n",
    "    print(f'Accuracy: {accuracy_score(y, y_hat)}')\n",
    "    print(f'Precision: {precision_score(y, y_hat)}')\n",
    "    print(f'Recall: {recall_score(y, y_hat)}')\n",
    "    print(f'F1: {f1_score(y, y_hat)}')"
   ]
  },
  {
   "cell_type": "code",
   "execution_count": 75,
   "metadata": {},
   "outputs": [],
   "source": [
    "from sklearn.model_selection import cross_val_score\n",
    "\n",
    "def cross_validate(X_train, y_train, model):\n",
    "    print(str(model).split('(')[0])\n",
    "    print(cross_val_score(model, X_train, y_train, cv=10, scoring='accuracy').mean(), \n",
    "              '+/-', cross_val_score(model, X_train, y_train, cv=10, scoring='accuracy').std(),\n",
    "          'AUC:', cross_val_score(model, X_train, y_train, cv=10, scoring='roc_auc').mean())\n"
   ]
  },
  {
   "cell_type": "markdown",
   "metadata": {},
   "source": [
    "## Pocetni modeli"
   ]
  },
  {
   "cell_type": "code",
   "execution_count": 76,
   "metadata": {},
   "outputs": [
    {
     "name": "stdout",
     "output_type": "stream",
     "text": [
      "LogisticRegression\n",
      "0.8761760293541514 +/- 0.0010526907767120673 AUC: 0.6622897189982437\n"
     ]
    }
   ],
   "source": [
    "from sklearn.linear_model import LogisticRegression\n",
    "\n",
    "lr = LogisticRegression()\n",
    "cross_validate(X_train,y_train, lr)"
   ]
  },
  {
   "cell_type": "code",
   "execution_count": 77,
   "metadata": {},
   "outputs": [],
   "source": [
    "from sklearn.tree import DecisionTreeClassifier\n",
    "from sklearn.naive_bayes import GaussianNB\n",
    "from sklearn.neighbors import KNeighborsClassifier"
   ]
  },
  {
   "cell_type": "code",
   "execution_count": 78,
   "metadata": {},
   "outputs": [],
   "source": [
    "nb = GaussianNB()\n",
    "knn = KNeighborsClassifier()\n",
    "tree = DecisionTreeClassifier()\n",
    "\n"
   ]
  },
  {
   "cell_type": "code",
   "execution_count": 79,
   "metadata": {},
   "outputs": [
    {
     "name": "stdout",
     "output_type": "stream",
     "text": [
      "GaussianNB\n",
      "0.7311338423169904 +/- 0.01899483646816548 AUC: 0.6297301155007219\n"
     ]
    }
   ],
   "source": [
    "cross_validate(X_train,y_train, nb)"
   ]
  },
  {
   "cell_type": "code",
   "execution_count": 80,
   "metadata": {},
   "outputs": [
    {
     "name": "stdout",
     "output_type": "stream",
     "text": [
      "KNeighborsClassifier\n",
      "0.8661118171480989 +/- 0.004030647427382215 AUC: 0.5627835431783949\n"
     ]
    }
   ],
   "source": [
    "cross_validate(X_train,y_train, knn)"
   ]
  },
  {
   "cell_type": "code",
   "execution_count": 81,
   "metadata": {},
   "outputs": [
    {
     "name": "stdout",
     "output_type": "stream",
     "text": [
      "DecisionTreeClassifier\n",
      "0.7827654247847649 +/- 0.015246141892487504 AUC: 0.5238254020337628\n"
     ]
    }
   ],
   "source": [
    "cross_validate(X_train,y_train, tree)"
   ]
  },
  {
   "cell_type": "code",
   "execution_count": 82,
   "metadata": {},
   "outputs": [],
   "source": [
    "from sklearn.svm import SVC"
   ]
  },
  {
   "cell_type": "code",
   "execution_count": 83,
   "metadata": {},
   "outputs": [],
   "source": [
    "svm=SVC()"
   ]
  },
  {
   "cell_type": "code",
   "execution_count": 84,
   "metadata": {},
   "outputs": [
    {
     "name": "stdout",
     "output_type": "stream",
     "text": [
      "SVC\n",
      "0.8761760293541514 +/- 0.0010526907767120673 AUC: 0.5875378611741323\n"
     ]
    }
   ],
   "source": [
    "cross_validate(X_train,y_train, svm)"
   ]
  },
  {
   "cell_type": "code",
   "execution_count": 85,
   "metadata": {},
   "outputs": [],
   "source": [
    "from sklearn.ensemble import GradientBoostingClassifier, BaggingClassifier\n",
    "\n",
    "gbc=GradientBoostingClassifier()\n",
    "bagging=BaggingClassifier()"
   ]
  },
  {
   "cell_type": "code",
   "execution_count": 86,
   "metadata": {},
   "outputs": [
    {
     "name": "stdout",
     "output_type": "stream",
     "text": [
      "GradientBoostingClassifier\n",
      "0.8755200519813096 +/- 0.002033461062835325 AUC: 0.6284697068419177\n"
     ]
    }
   ],
   "source": [
    "cross_validate(X_train,y_train, gbc)"
   ]
  },
  {
   "cell_type": "code",
   "execution_count": 87,
   "metadata": {},
   "outputs": [
    {
     "name": "stdout",
     "output_type": "stream",
     "text": [
      "BaggingClassifier\n",
      "0.8652384547026841 +/- 0.005037707023635667 AUC: 0.5793082792704954\n"
     ]
    }
   ],
   "source": [
    "cross_validate(X_train,y_train, bagging)"
   ]
  },
  {
   "cell_type": "code",
   "execution_count": 88,
   "metadata": {},
   "outputs": [
    {
     "name": "stdout",
     "output_type": "stream",
     "text": [
      "Requirement already satisfied: mlxtend in c:\\users\\olivera\\anaconda3\\lib\\site-packages (0.18.0)\n",
      "Requirement already satisfied: joblib>=0.13.2 in c:\\users\\olivera\\anaconda3\\lib\\site-packages (from mlxtend) (0.17.0)\n",
      "Requirement already satisfied: scipy>=1.2.1 in c:\\users\\olivera\\anaconda3\\lib\\site-packages (from mlxtend) (1.5.2)\n",
      "Requirement already satisfied: scikit-learn>=0.20.3 in c:\\users\\olivera\\anaconda3\\lib\\site-packages (from mlxtend) (0.23.2)\n",
      "Requirement already satisfied: setuptools in c:\\users\\olivera\\anaconda3\\lib\\site-packages (from mlxtend) (50.3.1.post20201107)\n",
      "Requirement already satisfied: numpy>=1.16.2 in c:\\users\\olivera\\anaconda3\\lib\\site-packages (from mlxtend) (1.19.2)\n",
      "Requirement already satisfied: matplotlib>=3.0.0 in c:\\users\\olivera\\anaconda3\\lib\\site-packages (from mlxtend) (3.3.2)\n",
      "Requirement already satisfied: pandas>=0.24.2 in c:\\users\\olivera\\anaconda3\\lib\\site-packages (from mlxtend) (1.1.3)\n",
      "Requirement already satisfied: threadpoolctl>=2.0.0 in c:\\users\\olivera\\anaconda3\\lib\\site-packages (from scikit-learn>=0.20.3->mlxtend) (2.1.0)\n",
      "Requirement already satisfied: certifi>=2020.06.20 in c:\\users\\olivera\\anaconda3\\lib\\site-packages (from matplotlib>=3.0.0->mlxtend) (2020.6.20)\n",
      "Requirement already satisfied: kiwisolver>=1.0.1 in c:\\users\\olivera\\anaconda3\\lib\\site-packages (from matplotlib>=3.0.0->mlxtend) (1.3.0)\n",
      "Requirement already satisfied: pillow>=6.2.0 in c:\\users\\olivera\\anaconda3\\lib\\site-packages (from matplotlib>=3.0.0->mlxtend) (8.0.1)\n",
      "Requirement already satisfied: cycler>=0.10 in c:\\users\\olivera\\anaconda3\\lib\\site-packages (from matplotlib>=3.0.0->mlxtend) (0.10.0)\n",
      "Requirement already satisfied: python-dateutil>=2.1 in c:\\users\\olivera\\anaconda3\\lib\\site-packages (from matplotlib>=3.0.0->mlxtend) (2.8.1)\n",
      "Requirement already satisfied: pyparsing!=2.0.4,!=2.1.2,!=2.1.6,>=2.0.3 in c:\\users\\olivera\\anaconda3\\lib\\site-packages (from matplotlib>=3.0.0->mlxtend) (2.4.7)\n",
      "Requirement already satisfied: pytz>=2017.2 in c:\\users\\olivera\\anaconda3\\lib\\site-packages (from pandas>=0.24.2->mlxtend) (2020.1)\n",
      "Requirement already satisfied: six in c:\\users\\olivera\\anaconda3\\lib\\site-packages (from cycler>=0.10->matplotlib>=3.0.0->mlxtend) (1.15.0)\n"
     ]
    }
   ],
   "source": [
    "!pip install mlxtend"
   ]
  },
  {
   "cell_type": "code",
   "execution_count": 89,
   "metadata": {},
   "outputs": [],
   "source": [
    "from mlxtend.classifier import StackingClassifier\n",
    "\n",
    "stacking = StackingClassifier(classifiers=[svm, lr], meta_classifier = LogisticRegression())"
   ]
  },
  {
   "cell_type": "code",
   "execution_count": 90,
   "metadata": {},
   "outputs": [
    {
     "name": "stdout",
     "output_type": "stream",
     "text": [
      "StackingClassifier\n",
      "0.8761760293541514 +/- 0.0010526907767120673 AUC: 0.5\n"
     ]
    }
   ],
   "source": [
    "cross_validate(X_train,y_train, stacking)"
   ]
  },
  {
   "cell_type": "markdown",
   "metadata": {},
   "source": [
    "Menjamo treshold zbog nebalansiranih podataka"
   ]
  },
  {
   "cell_type": "code",
   "execution_count": 91,
   "metadata": {},
   "outputs": [
    {
     "data": {
      "text/plain": [
       "[<matplotlib.lines.Line2D at 0x24d03e6a100>]"
      ]
     },
     "execution_count": 91,
     "metadata": {},
     "output_type": "execute_result"
    },
    {
     "data": {
      "image/png": "[encoded data removed]",
      "text/plain": [
       "<Figure size 432x288 with 1 Axes>"
      ]
     },
     "metadata": {},
     "output_type": "display_data"
    }
   ],
   "source": [
    "import matplotlib.pyplot as plt\n",
    "from sklearn.metrics import roc_curve\n",
    "\n",
    "\n",
    "lr.fit(X_train, y_train)\n",
    "\n",
    "fpr, tpr, thresholds = roc_curve(y_test, lr.predict_proba(X_test)[:, 1])\n",
    "\n",
    "plt.plot(fpr, tpr)"
   ]
  },
  {
   "cell_type": "code",
   "execution_count": 92,
   "metadata": {},
   "outputs": [
    {
     "name": "stdout",
     "output_type": "stream",
     "text": [
      "Best Threshold=0.126546, G-Mean=0.593\n"
     ]
    }
   ],
   "source": [
    "from numpy import sqrt\n",
    "from numpy import argmax\n",
    "gmeans = sqrt(tpr * (1-fpr))\n",
    "ix = argmax(gmeans)\n",
    "print('Best Threshold=%f, G-Mean=%.3f' % (thresholds[ix], gmeans[ix]))"
   ]
  },
  {
   "cell_type": "code",
   "execution_count": 93,
   "metadata": {},
   "outputs": [
    {
     "data": {
      "text/plain": [
       "array([[1022,  673],\n",
       "       [ 110,  154]], dtype=int64)"
      ]
     },
     "execution_count": 93,
     "metadata": {},
     "output_type": "execute_result"
    }
   ],
   "source": [
    "from sklearn.metrics import confusion_matrix\n",
    "y_hat = lr.predict_proba(X_test)[:, 1] >= 0.126546\n",
    "\n",
    "confusion_matrix(y_test, y_hat)"
   ]
  },
  {
   "cell_type": "code",
   "execution_count": 94,
   "metadata": {},
   "outputs": [
    {
     "name": "stdout",
     "output_type": "stream",
     "text": [
      "Accuracy: 0.6003062787136294\n",
      "Precision: 0.18621523579201935\n",
      "Recall: 0.5833333333333334\n",
      "F1: 0.28230980751604035\n"
     ]
    }
   ],
   "source": [
    "print_performance(y_test, y_hat)"
   ]
  },
  {
   "cell_type": "code",
   "execution_count": 95,
   "metadata": {},
   "outputs": [
    {
     "data": {
      "text/plain": [
       "0.5931415929203541"
      ]
     },
     "execution_count": 95,
     "metadata": {},
     "output_type": "execute_result"
    }
   ],
   "source": [
    "from sklearn.metrics import roc_auc_score\n",
    "roc_auc_score(y_test,y_hat)"
   ]
  },
  {
   "cell_type": "markdown",
   "metadata": {},
   "source": [
    "## HIPERPARAMETRI"
   ]
  },
  {
   "cell_type": "code",
   "execution_count": 99,
   "metadata": {},
   "outputs": [
    {
     "name": "stdout",
     "output_type": "stream",
     "text": [
      "Best param:  {'n_estimators': 40, 'min_samples_split': 32, 'max_depth': 5}\n",
      "Best param:  {'C': 0.42107448046114815, 'penalty': 'l2'}\n"
     ]
    }
   ],
   "source": [
    "\n",
    "from sklearn.model_selection import RandomizedSearchCV\n",
    "\n",
    "\n",
    "import scipy.stats\n",
    "\n",
    "params = {\"penalty\": ['l1', 'l2'],\n",
    "          \"C\": scipy.stats.uniform(0.0001,3)}\n",
    "\n",
    "n_iter_search = 100 \n",
    "\n",
    "random_search_lr = RandomizedSearchCV(LogisticRegression(solver='liblinear'), param_distributions=params,\n",
    "                                   n_iter=n_iter_search, cv=10, scoring='roc_auc')\n",
    "random_search_lr.fit(X_train,y_train)\n",
    "\n",
    "print('Best param: ',random_search_lr.best_params_)"
   ]
  },
  {
   "cell_type": "code",
   "execution_count": null,
   "metadata": {},
   "outputs": [],
   "source": [
    "params = {'min_samples_split': range(2,40,3),\n",
    "    'max_depth': range(5,20,2),\n",
    "    'n_estimators' : range(10,100,10)\n",
    "}\n",
    "\n",
    "n_iter_search = 100 \n",
    "\n",
    "random_search_gb = RandomizedSearchCV(GradientBoostingClassifier(), param_distributions=params,\n",
    "                                   n_iter=n_iter_search, cv=10, scoring='roc_auc')\n",
    "random_search_gb.fit(X_train,y_train)\n",
    "\n",
    "print('Best param: ',random_search_gb.best_params_)"
   ]
  },
  {
   "cell_type": "code",
   "execution_count": 100,
   "metadata": {},
   "outputs": [
    {
     "name": "stdout",
     "output_type": "stream",
     "text": [
      "Best param:  {'C': 0.4447233160838864}\n"
     ]
    }
   ],
   "source": [
    "params = {'C': scipy.stats.uniform(0.0001,5)\n",
    "}\n",
    "\n",
    "n_iter_search = 100 \n",
    "\n",
    "random_search_svm = RandomizedSearchCV(SVC(), param_distributions=params,\n",
    "                                   n_iter=n_iter_search, cv=10, scoring='roc_auc')\n",
    "random_search_svm.fit(X_train,y_train)\n",
    "\n",
    "print('Best param: ',random_search_svm.best_params_)"
   ]
  },
  {
   "cell_type": "code",
   "execution_count": 102,
   "metadata": {},
   "outputs": [],
   "source": [
    "best_svc=SVC(C=0.4447233160838864)"
   ]
  },
  {
   "cell_type": "code",
   "execution_count": 103,
   "metadata": {},
   "outputs": [],
   "source": [
    "best_gbd=GradientBoostingClassifier(n_estimators= 30, min_samples_split= 20, max_depth= 5)"
   ]
  },
  {
   "cell_type": "code",
   "execution_count": 104,
   "metadata": {},
   "outputs": [],
   "source": [
    "best_lr=LogisticRegression(solver='liblinear', C= 0.37671196517127126)"
   ]
  },
  {
   "cell_type": "markdown",
   "metadata": {},
   "source": [
    "## FEATURE SELECTION"
   ]
  },
  {
   "cell_type": "code",
   "execution_count": 105,
   "metadata": {},
   "outputs": [
    {
     "data": {
      "text/plain": [
       "array([ True,  True,  True,  True,  True,  True,  True,  True,  True,\n",
       "       False, False,  True,  True,  True, False,  True, False,  True,\n",
       "       False,  True,  True,  True, False, False,  True, False, False,\n",
       "       False, False,  True,  True, False, False])"
      ]
     },
     "execution_count": 105,
     "metadata": {},
     "output_type": "execute_result"
    }
   ],
   "source": [
    "from sklearn.feature_selection import SelectKBest\n",
    "from sklearn.feature_selection import mutual_info_classif\n",
    "\n",
    "selection = SelectKBest(k=20, score_func=mutual_info_classif)  \n",
    "\n",
    "selection.fit(X_train, y_train)\n",
    "selection.get_support()"
   ]
  },
  {
   "cell_type": "code",
   "execution_count": 106,
   "metadata": {},
   "outputs": [],
   "source": [
    "X_reduced = X_train.loc[:, selection.get_support()]\n",
    "\n",
    "\n",
    "\n",
    "scores_lr = cross_val_score(best_lr, X_reduced, y_train, cv=10, scoring='roc_auc')"
   ]
  },
  {
   "cell_type": "code",
   "execution_count": 107,
   "metadata": {},
   "outputs": [],
   "source": [
    "scores_svc = cross_val_score(best_svc, X_reduced, y_train, cv=10, scoring='roc_auc')"
   ]
  },
  {
   "cell_type": "code",
   "execution_count": 108,
   "metadata": {},
   "outputs": [],
   "source": [
    "scores_gbc = cross_val_score(best_gbd, X_reduced, y_train, cv=10, scoring='roc_auc')"
   ]
  },
  {
   "cell_type": "code",
   "execution_count": 109,
   "metadata": {},
   "outputs": [
    {
     "name": "stdout",
     "output_type": "stream",
     "text": [
      "Izabrani atributi: 0.6500431815198844\n",
      "Izabrani atributi: 0.5710105453784087\n",
      "Izabrani atributi: 0.6141968707616922\n"
     ]
    }
   ],
   "source": [
    "print(f'Izabrani atributi: {scores_lr.mean()}')\n",
    "print(f'Izabrani atributi: {scores_svc.mean()}')\n",
    "print(f'Izabrani atributi: {scores_gbc.mean()}')"
   ]
  },
  {
   "cell_type": "code",
   "execution_count": 110,
   "metadata": {},
   "outputs": [],
   "source": [
    "from sklearn.feature_selection import RFECV\n",
    "\n",
    "\n",
    "model_lr = RFECV(estimator=best_lr, \n",
    "                 min_features_to_select=20, cv=10, step=1, \n",
    "                 scoring='roc_auc')\n",
    "\n",
    "model_lr.fit(X_train, y_train)\n",
    "X_reduced_lr = X_train.loc[:, model_lr.get_support()]\n",
    "scores_lr_rfe = cross_val_score(best_lr, X_reduced_lr, y_train, cv=10, scoring='roc_auc')"
   ]
  },
  {
   "cell_type": "code",
   "execution_count": 111,
   "metadata": {},
   "outputs": [],
   "source": [
    "best_svc_rfe=SVC(C=0.3403554034164118, kernel='linear')\n",
    "model_svm = RFECV(estimator=best_svc_rfe, \n",
    "                 min_features_to_select=20, cv=10, step=1, \n",
    "                 scoring='roc_auc')\n",
    "\n",
    "model_svm.fit(X_train, y_train)\n",
    "X_reduced = X_train.loc[:, model_svm.get_support()]\n",
    "scores_svm_rfe = cross_val_score(best_svc, X_reduced, y_train, cv=10, scoring='roc_auc')"
   ]
  },
  {
   "cell_type": "code",
   "execution_count": 112,
   "metadata": {},
   "outputs": [],
   "source": [
    "model_gbd = RFECV(estimator=best_gbd, \n",
    "                 min_features_to_select=20, cv=10, step=1, \n",
    "                 scoring='roc_auc')\n",
    "\n",
    "model_gbd.fit(X_train, y_train)\n",
    "X_reduced = X_train.loc[:, model_gbd.get_support()]\n",
    "scores_gbd_rfe = cross_val_score(best_gbd, X_reduced, y_train, cv=10, scoring='roc_auc')"
   ]
  },
  {
   "cell_type": "code",
   "execution_count": 113,
   "metadata": {},
   "outputs": [
    {
     "name": "stdout",
     "output_type": "stream",
     "text": [
      "Izabrani atributi: 0.6669059494121837\n",
      "Izabrani atributi: 0.5866526587666172\n",
      "Izabrani atributi: 0.6345649566559791\n"
     ]
    }
   ],
   "source": [
    "print(f'Izabrani atributi: {scores_lr_rfe.mean()}')\n",
    "print(f'Izabrani atributi: {scores_svm_rfe.mean()}')\n",
    "print(f'Izabrani atributi: {scores_gbd_rfe.mean()}')"
   ]
  },
  {
   "cell_type": "markdown",
   "metadata": {},
   "source": [
    "## Izabrani model"
   ]
  },
  {
   "cell_type": "code",
   "execution_count": 114,
   "metadata": {},
   "outputs": [
    {
     "data": {
      "text/plain": [
       "[<matplotlib.lines.Line2D at 0x24d06cb5640>]"
      ]
     },
     "execution_count": 114,
     "metadata": {},
     "output_type": "execute_result"
    },
    {
     "data": {
      "image/png": "[encoded data removed]",
      "text/plain": [
       "<Figure size 432x288 with 1 Axes>"
      ]
     },
     "metadata": {},
     "output_type": "display_data"
    }
   ],
   "source": [
    "best_lr.fit(X_reduced_lr,y_train)\n",
    "X_test_reduced=X_test.loc[:, model_lr.get_support()]\n",
    "fpr, tpr, thresholds = roc_curve(y_test, best_lr.predict_proba(X_test_reduced)[:, 1])\n",
    "\n",
    "plt.plot(fpr, tpr)"
   ]
  },
  {
   "cell_type": "code",
   "execution_count": 118,
   "metadata": {},
   "outputs": [
    {
     "name": "stdout",
     "output_type": "stream",
     "text": [
      "Best Threshold=0.123847, G-Mean=0.608\n"
     ]
    }
   ],
   "source": [
    "gmeans = sqrt(tpr * (1-fpr))\n",
    "ix = argmax(gmeans)\n",
    "print('Best Threshold=%f, G-Mean=%.3f' % (thresholds[ix], gmeans[ix]))"
   ]
  },
  {
   "cell_type": "code",
   "execution_count": 119,
   "metadata": {},
   "outputs": [
    {
     "data": {
      "text/plain": [
       "array([[995, 700],\n",
       "       [ 98, 166]], dtype=int64)"
      ]
     },
     "execution_count": 119,
     "metadata": {},
     "output_type": "execute_result"
    }
   ],
   "source": [
    "y_hat_fin = best_lr.predict_proba(X_test_reduced)[:, 1] >= thresholds[ix]\n",
    "\n",
    "confusion_matrix(y_test, y_hat_fin)"
   ]
  },
  {
   "cell_type": "code",
   "execution_count": 120,
   "metadata": {},
   "outputs": [
    {
     "name": "stdout",
     "output_type": "stream",
     "text": [
      "Accuracy: 0.5926493108728943\n",
      "Precision: 0.19168591224018475\n",
      "Recall: 0.6287878787878788\n",
      "F1: 0.29380530973451324\n"
     ]
    }
   ],
   "source": [
    "print_performance(y_test, y_hat_fin)"
   ]
  }
 ],
 "metadata": {
  "kernelspec": {
   "display_name": "Python 3",
   "language": "python",
   "name": "python3"
  },
  "language_info": {
   "codemirror_mode": {
    "name": "ipython",
    "version": 3
   },
   "file_extension": ".py",
   "mimetype": "text/x-python",
   "name": "python",
   "nbconvert_exporter": "python",
   "pygments_lexer": "ipython3",
   "version": "3.8.5"
  }
 },
 "nbformat": 4,
 "nbformat_minor": 4
}
